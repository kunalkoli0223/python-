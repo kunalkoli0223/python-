{
 "cells": [
  {
   "cell_type": "markdown",
   "id": "be9da69b-c147-4f30-85a7-cebdea5c84c9",
   "metadata": {},
   "source": [
    "1. Who developed Python Programming Language? \n",
    "2. Which type of Programming does Python support? \n",
    "3. Is Python case sensitive when dealing with identifiers? \n",
    "4. What is the correct extension of the Python file? \n",
    "5. Is Python code compiled or interpreted? \n",
    "6. Name a few blocks of code used to define in Python language? \n",
    "7. State a character used to give single-line comments in Python? \n",
    "8. Mention functions which can help us to find the version of python that we are currently working on? \n",
    "9. Python supports the creation of anonymous functions at runtime, using a construct called \n",
    "10. What does pip stand for python? \n",
    "11. Mention a few built-in functions in python? \n",
    "12. What is the maximum possible length of an identifier in Python? \n",
    "13. What are the benefits of using Python? \n",
    "14. How is memory managed in Python? \n",
    "15. How to install Python on Windows and set path variables? \n",
    "16. Is indentation required in python? \n"
   ]
  },
  {
   "cell_type": "markdown",
   "id": "49276115-a21b-43b1-8888-8a8cdee10c13",
   "metadata": {},
   "source": [
    "1. Guido van Rossum developed the Python programming language.\n",
    "2. Python supports multiple programming paradigms, including object-oriented, procedural, and functional programming.\n",
    "3. Yes, Python is case sensitive when dealing with identifiers.\n",
    "4. The correct extension of a Python file is .py .\n",
    "5. Python code is interpreted, not compiled.\n",
    "6. The blocks of code used to define in Python are function definition, class definition, and conditional blocks (if/else).\n",
    "7. The character '#' is used to give single-line comments in Python.\n",
    "8. The sys module provides two functions to determine the version of Python you are using: sys.version and \n",
    "   sys.version_info.\n",
    "9. Python supports the creation of anonymous functions at runtime, using a construct called \"lambda\".\n",
    "10. \"Pip\" stands for \"Pip Installs Packages\".\n",
    "11. Some of the built-in functions in Python include print(), len(), str(), int(), float(), list(), tuple(), set(),\n",
    "    dict(), sum(), min(), max(), sorted(), etc.\n",
    "12. There is no theoretical limit to the length of an identifier in Python, but the practical limit is typically limited \n",
    "    by the amount of memory available.\n",
    "13. Benefits of using Python include ease of use and readability, a large standard library, support for multiple \n",
    "    programming paradigms, high-level dynamic data types, and automatic memory management.\n",
    "14.  Memory management in Python is done automatically by the Python memory manager through reference counting and \n",
    "    garbage collection.\n",
    "15. To install Python on Windows and set the path variables, you can download the Python installer from the official \n",
    "    Python website, and then run the installer. During the installation process, you will have the option to add Python \n",
    "    to the environment variables, which allows you to run Python from any directory in the command prompt.\n",
    "16. Yes, indentation is required in Python and is used to define blocks of code such as loops and functions."
   ]
  },
  {
   "cell_type": "code",
   "execution_count": null,
   "id": "11d90b3b-2f40-48a3-8eac-a95a7322705a",
   "metadata": {},
   "outputs": [],
   "source": []
  }
 ],
 "metadata": {
  "kernelspec": {
   "display_name": "Python 3 (ipykernel)",
   "language": "python",
   "name": "python3"
  },
  "language_info": {
   "codemirror_mode": {
    "name": "ipython",
    "version": 3
   },
   "file_extension": ".py",
   "mimetype": "text/x-python",
   "name": "python",
   "nbconvert_exporter": "python",
   "pygments_lexer": "ipython3",
   "version": "3.10.8"
  }
 },
 "nbformat": 4,
 "nbformat_minor": 5
}
