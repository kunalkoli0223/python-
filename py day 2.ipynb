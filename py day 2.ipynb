{
 "cells": [
  {
   "cell_type": "code",
   "execution_count": 20,
   "id": "efab2bb0-7159-4e5c-9b40-c2a891700123",
   "metadata": {},
   "outputs": [
    {
     "ename": "SyntaxError",
     "evalue": "invalid decimal literal (1047907431.py, line 1)",
     "output_type": "error",
     "traceback": [
      "\u001b[0;36m  Cell \u001b[0;32mIn[20], line 1\u001b[0;36m\u001b[0m\n\u001b[0;31m    l =[1,345,45,\"kunalkoli\",(5+8l),True,456.36]\u001b[0m\n\u001b[0m                                ^\u001b[0m\n\u001b[0;31mSyntaxError\u001b[0m\u001b[0;31m:\u001b[0m invalid decimal literal\n"
     ]
    }
   ],
   "source": [
    "l =[1,345,45,\"kunalkoli\",(5+8l),True,456.36]"
   ]
  },
  {
   "cell_type": "code",
   "execution_count": 21,
   "id": "9ffd1777-4953-4fb5-916c-97e3170d337c",
   "metadata": {},
   "outputs": [
    {
     "ename": "TypeError",
     "evalue": "type() takes 1 or 3 arguments",
     "output_type": "error",
     "traceback": [
      "\u001b[0;31m---------------------------------------------------------------------------\u001b[0m",
      "\u001b[0;31mTypeError\u001b[0m                                 Traceback (most recent call last)",
      "Cell \u001b[0;32mIn[21], line 1\u001b[0m\n\u001b[0;32m----> 1\u001b[0m \u001b[38;5;28;43mtype\u001b[39;49m\u001b[43m(\u001b[49m\u001b[43m)\u001b[49m\n",
      "\u001b[0;31mTypeError\u001b[0m: type() takes 1 or 3 arguments"
     ]
    }
   ],
   "source": [
    "type()"
   ]
  },
  {
   "cell_type": "code",
   "execution_count": null,
   "id": "d186ec9d-3e0a-481b-9a6d-a25c7d782aa9",
   "metadata": {},
   "outputs": [],
   "source": []
  },
  {
   "cell_type": "code",
   "execution_count": 22,
   "id": "a6c60dfb-92e5-43cd-a3d2-5c307b5bd6a4",
   "metadata": {},
   "outputs": [
    {
     "ename": "NameError",
     "evalue": "name 'l' is not defined",
     "output_type": "error",
     "traceback": [
      "\u001b[0;31m---------------------------------------------------------------------------\u001b[0m",
      "\u001b[0;31mNameError\u001b[0m                                 Traceback (most recent call last)",
      "Cell \u001b[0;32mIn[22], line 1\u001b[0m\n\u001b[0;32m----> 1\u001b[0m \u001b[38;5;28mtype\u001b[39m(\u001b[43ml\u001b[49m)\n",
      "\u001b[0;31mNameError\u001b[0m: name 'l' is not defined"
     ]
    }
   ],
   "source": [
    "type(l)"
   ]
  },
  {
   "cell_type": "code",
   "execution_count": 23,
   "id": "b5d137c1-83b7-4261-934a-697aa2fbd40d",
   "metadata": {},
   "outputs": [],
   "source": [
    "l=[1,2,22]"
   ]
  },
  {
   "cell_type": "code",
   "execution_count": 24,
   "id": "ef5d7c7f-0655-4762-bece-8ab9310bdf9b",
   "metadata": {},
   "outputs": [
    {
     "data": {
      "text/plain": [
       "list"
      ]
     },
     "execution_count": 24,
     "metadata": {},
     "output_type": "execute_result"
    }
   ],
   "source": [
    "type(l)"
   ]
  },
  {
   "cell_type": "code",
   "execution_count": 28,
   "id": "43a5ef92-e5b9-43ee-9647-d49d00b68afc",
   "metadata": {},
   "outputs": [],
   "source": [
    "l=[125, 488, \"kunal\", True , 52.6]"
   ]
  },
  {
   "cell_type": "code",
   "execution_count": 26,
   "id": "496fa3bc-689d-4207-80ae-fb8a054502ab",
   "metadata": {},
   "outputs": [
    {
     "data": {
      "text/plain": [
       "list"
      ]
     },
     "execution_count": 26,
     "metadata": {},
     "output_type": "execute_result"
    }
   ],
   "source": [
    "type(l)"
   ]
  },
  {
   "cell_type": "code",
   "execution_count": 29,
   "id": "ca99e101-bb04-4fd9-a5e8-08cc8aa6a4ea",
   "metadata": {},
   "outputs": [
    {
     "data": {
      "text/plain": [
       "True"
      ]
     },
     "execution_count": 29,
     "metadata": {},
     "output_type": "execute_result"
    }
   ],
   "source": [
    "l[-2]"
   ]
  },
  {
   "cell_type": "code",
   "execution_count": 30,
   "id": "8b66bd69-dcbd-424b-a30b-b54dbd002da5",
   "metadata": {},
   "outputs": [
    {
     "data": {
      "text/plain": [
       "[52.6, True, 'kunal', 488, 125]"
      ]
     },
     "execution_count": 30,
     "metadata": {},
     "output_type": "execute_result"
    }
   ],
   "source": [
    "l[::-1]"
   ]
  },
  {
   "cell_type": "code",
   "execution_count": 31,
   "id": "345572f6-99e2-4305-a380-d72a48189c6c",
   "metadata": {},
   "outputs": [],
   "source": [
    "s= \"pwskills\""
   ]
  },
  {
   "cell_type": "code",
   "execution_count": 32,
   "id": "e33747e7-e79d-442b-b22b-abe7d4394366",
   "metadata": {},
   "outputs": [
    {
     "ename": "TypeError",
     "evalue": "can only concatenate list (not \"str\") to list",
     "output_type": "error",
     "traceback": [
      "\u001b[0;31m---------------------------------------------------------------------------\u001b[0m",
      "\u001b[0;31mTypeError\u001b[0m                                 Traceback (most recent call last)",
      "Cell \u001b[0;32mIn[32], line 1\u001b[0m\n\u001b[0;32m----> 1\u001b[0m \u001b[43ml\u001b[49m\u001b[38;5;241;43m+\u001b[39;49m\u001b[43ms\u001b[49m\n",
      "\u001b[0;31mTypeError\u001b[0m: can only concatenate list (not \"str\") to list"
     ]
    }
   ],
   "source": [
    "l+s"
   ]
  },
  {
   "cell_type": "code",
   "execution_count": 33,
   "id": "c606f5d9-16ec-4c3e-bdf2-0e4c9073812e",
   "metadata": {},
   "outputs": [
    {
     "data": {
      "text/plain": [
       "[125, 'kunal', 52.6]"
      ]
     },
     "execution_count": 33,
     "metadata": {},
     "output_type": "execute_result"
    }
   ],
   "source": [
    "l[::2]"
   ]
  },
  {
   "cell_type": "markdown",
   "id": "79d8b508-c750-4617-98f2-831c15192b24",
   "metadata": {},
   "source": [
    "list(s)"
   ]
  },
  {
   "cell_type": "code",
   "execution_count": 34,
   "id": "6f055d78-d2e6-4c48-a99b-ae5c2f642b06",
   "metadata": {},
   "outputs": [
    {
     "ename": "TypeError",
     "evalue": "can only concatenate list (not \"int\") to list",
     "output_type": "error",
     "traceback": [
      "\u001b[0;31m---------------------------------------------------------------------------\u001b[0m",
      "\u001b[0;31mTypeError\u001b[0m                                 Traceback (most recent call last)",
      "Cell \u001b[0;32mIn[34], line 1\u001b[0m\n\u001b[0;32m----> 1\u001b[0m \u001b[38;5;28;43mlist\u001b[39;49m\u001b[43m \u001b[49m\u001b[43m(\u001b[49m\u001b[43ms\u001b[49m\u001b[43m)\u001b[49m\u001b[43m \u001b[49m\u001b[38;5;241;43m+\u001b[39;49m\u001b[43m \u001b[49m\u001b[38;5;241;43m1\u001b[39;49m\n",
      "\u001b[0;31mTypeError\u001b[0m: can only concatenate list (not \"int\") to list"
     ]
    }
   ],
   "source": [
    "list (s) + 1"
   ]
  },
  {
   "cell_type": "code",
   "execution_count": 35,
   "id": "3fb38016-3c2f-475f-bd4d-38d1dce26403",
   "metadata": {},
   "outputs": [
    {
     "data": {
      "text/plain": [
       "[125, 488, 'kunal', True, 52.6]"
      ]
     },
     "execution_count": 35,
     "metadata": {},
     "output_type": "execute_result"
    }
   ],
   "source": [
    "l"
   ]
  },
  {
   "cell_type": "code",
   "execution_count": 36,
   "id": "2d93416c-5aa5-4c9a-83ce-3086cefb49e9",
   "metadata": {},
   "outputs": [
    {
     "data": {
      "text/plain": [
       "'kunal'"
      ]
     },
     "execution_count": 36,
     "metadata": {},
     "output_type": "execute_result"
    }
   ],
   "source": [
    "l[2]"
   ]
  },
  {
   "cell_type": "code",
   "execution_count": 37,
   "id": "a9d86eaf-fde2-4cea-8994-ffbbb6217746",
   "metadata": {},
   "outputs": [
    {
     "data": {
      "text/plain": [
       "str"
      ]
     },
     "execution_count": 37,
     "metadata": {},
     "output_type": "execute_result"
    }
   ],
   "source": [
    "type(l[2])"
   ]
  },
  {
   "cell_type": "code",
   "execution_count": 38,
   "id": "68a30554-1290-4517-90ec-24ba02e6d980",
   "metadata": {},
   "outputs": [
    {
     "data": {
      "text/plain": [
       "'ku'"
      ]
     },
     "execution_count": 38,
     "metadata": {},
     "output_type": "execute_result"
    }
   ],
   "source": [
    "l[2][0:2]"
   ]
  },
  {
   "cell_type": "code",
   "execution_count": 39,
   "id": "3f115f46-c53c-47fd-ac4a-ca0b2b869799",
   "metadata": {},
   "outputs": [
    {
     "ename": "TypeError",
     "evalue": "'bool' object is not subscriptable",
     "output_type": "error",
     "traceback": [
      "\u001b[0;31m---------------------------------------------------------------------------\u001b[0m",
      "\u001b[0;31mTypeError\u001b[0m                                 Traceback (most recent call last)",
      "Cell \u001b[0;32mIn[39], line 1\u001b[0m\n\u001b[0;32m----> 1\u001b[0m \u001b[43ml\u001b[49m\u001b[43m[\u001b[49m\u001b[38;5;241;43m3\u001b[39;49m\u001b[43m]\u001b[49m\u001b[43m[\u001b[49m\u001b[38;5;241;43m0\u001b[39;49m\u001b[43m:\u001b[49m\u001b[38;5;241;43m2\u001b[39;49m\u001b[43m]\u001b[49m\n",
      "\u001b[0;31mTypeError\u001b[0m: 'bool' object is not subscriptable"
     ]
    }
   ],
   "source": [
    "l[3][0:2]"
   ]
  },
  {
   "cell_type": "code",
   "execution_count": 41,
   "id": "ea5850c9-e98b-4ad5-8562-bcabd77e22b6",
   "metadata": {},
   "outputs": [
    {
     "data": {
      "text/plain": [
       "'Tr'"
      ]
     },
     "execution_count": 41,
     "metadata": {},
     "output_type": "execute_result"
    }
   ],
   "source": [
    "str(l[3])[0:2]"
   ]
  },
  {
   "cell_type": "code",
   "execution_count": 42,
   "id": "99946d37-ac64-46ce-842d-d29abd717949",
   "metadata": {},
   "outputs": [
    {
     "ename": "TypeError",
     "evalue": "can only concatenate list (not \"int\") to list",
     "output_type": "error",
     "traceback": [
      "\u001b[0;31m---------------------------------------------------------------------------\u001b[0m",
      "\u001b[0;31mTypeError\u001b[0m                                 Traceback (most recent call last)",
      "Cell \u001b[0;32mIn[42], line 1\u001b[0m\n\u001b[0;32m----> 1\u001b[0m \u001b[43ml\u001b[49m\u001b[38;5;241;43m+\u001b[39;49m\u001b[38;5;241;43m5\u001b[39;49m\n",
      "\u001b[0;31mTypeError\u001b[0m: can only concatenate list (not \"int\") to list"
     ]
    }
   ],
   "source": [
    "l+5"
   ]
  },
  {
   "cell_type": "code",
   "execution_count": 43,
   "id": "09e8371c-9830-4ba8-b04a-92088a8e8838",
   "metadata": {},
   "outputs": [
    {
     "data": {
      "text/plain": [
       "['p', 'w', 's', 'k', 'i', 'l', 'l', 's']"
      ]
     },
     "execution_count": 43,
     "metadata": {},
     "output_type": "execute_result"
    }
   ],
   "source": [
    "list(s)"
   ]
  },
  {
   "cell_type": "code",
   "execution_count": 45,
   "id": "186b618f-edf8-4cb8-a1e9-cfcf67a7a19c",
   "metadata": {},
   "outputs": [
    {
     "ename": "TypeError",
     "evalue": "can only concatenate str (not \"list\") to str",
     "output_type": "error",
     "traceback": [
      "\u001b[0;31m---------------------------------------------------------------------------\u001b[0m",
      "\u001b[0;31mTypeError\u001b[0m                                 Traceback (most recent call last)",
      "Cell \u001b[0;32mIn[45], line 1\u001b[0m\n\u001b[0;32m----> 1\u001b[0m \u001b[43ms\u001b[49m\u001b[43m \u001b[49m\u001b[38;5;241;43m+\u001b[39;49m\u001b[43m \u001b[49m\u001b[43ml\u001b[49m\n",
      "\u001b[0;31mTypeError\u001b[0m: can only concatenate str (not \"list\") to str"
     ]
    }
   ],
   "source": [
    "s + l"
   ]
  },
  {
   "cell_type": "code",
   "execution_count": 46,
   "id": "1e8ddf89-bebb-4b0f-a1d8-8279a149b9b4",
   "metadata": {},
   "outputs": [],
   "source": [
    "l1 = [1,5,6]"
   ]
  },
  {
   "cell_type": "code",
   "execution_count": 47,
   "id": "6937ad34-2aa9-414e-8d1e-5c9fea39a661",
   "metadata": {},
   "outputs": [
    {
     "data": {
      "text/plain": [
       "list"
      ]
     },
     "execution_count": 47,
     "metadata": {},
     "output_type": "execute_result"
    }
   ],
   "source": [
    "type(l1)"
   ]
  },
  {
   "cell_type": "code",
   "execution_count": 48,
   "id": "01f79314-42a0-4489-84dd-a8eb647008d4",
   "metadata": {},
   "outputs": [
    {
     "data": {
      "text/plain": [
       "[1, 5, 6, 125, 488, 'kunal', True, 52.6]"
      ]
     },
     "execution_count": 48,
     "metadata": {},
     "output_type": "execute_result"
    }
   ],
   "source": [
    "l1 + l"
   ]
  },
  {
   "cell_type": "code",
   "execution_count": 50,
   "id": "f4e2b463-4441-4d69-b947-b1ac2cca37b9",
   "metadata": {},
   "outputs": [
    {
     "data": {
      "text/plain": [
       "[1, 5, 6, 125, 488, 'kunal', True, 52.6]"
      ]
     },
     "execution_count": 50,
     "metadata": {},
     "output_type": "execute_result"
    }
   ],
   "source": [
    "l1 + l"
   ]
  },
  {
   "cell_type": "code",
   "execution_count": 51,
   "id": "bb33ff37-ddd0-402b-a96b-9fc496a1e914",
   "metadata": {},
   "outputs": [
    {
     "data": {
      "text/plain": [
       "[1, 5, 6, 1, 5, 6, 1, 5, 6]"
      ]
     },
     "execution_count": 51,
     "metadata": {},
     "output_type": "execute_result"
    }
   ],
   "source": [
    "l1 * 3"
   ]
  },
  {
   "cell_type": "code",
   "execution_count": 52,
   "id": "d4c2334a-9ae6-4562-88c5-bb0e2bdca4bc",
   "metadata": {},
   "outputs": [
    {
     "data": {
      "text/plain": [
       "[125, 488, 'kunal', True, 52.6]"
      ]
     },
     "execution_count": 52,
     "metadata": {},
     "output_type": "execute_result"
    }
   ],
   "source": [
    "l\n"
   ]
  },
  {
   "cell_type": "code",
   "execution_count": 53,
   "id": "5d9d05e7-1716-4bbb-915b-c2c925adde0c",
   "metadata": {},
   "outputs": [
    {
     "data": {
      "text/plain": [
       "5"
      ]
     },
     "execution_count": 53,
     "metadata": {},
     "output_type": "execute_result"
    }
   ],
   "source": [
    "len(l)"
   ]
  },
  {
   "cell_type": "code",
   "execution_count": 54,
   "id": "3b6d1d81-dab4-4304-9512-f1ce7ab505fd",
   "metadata": {},
   "outputs": [
    {
     "ename": "NameError",
     "evalue": "name 'count' is not defined",
     "output_type": "error",
     "traceback": [
      "\u001b[0;31m---------------------------------------------------------------------------\u001b[0m",
      "\u001b[0;31mNameError\u001b[0m                                 Traceback (most recent call last)",
      "Cell \u001b[0;32mIn[54], line 1\u001b[0m\n\u001b[0;32m----> 1\u001b[0m \u001b[43mcount\u001b[49m(l)\n",
      "\u001b[0;31mNameError\u001b[0m: name 'count' is not defined"
     ]
    }
   ],
   "source": [
    "count(l)"
   ]
  },
  {
   "cell_type": "code",
   "execution_count": 55,
   "id": "01018bbb-9dcb-44cd-a223-b8f95a5c2fbd",
   "metadata": {},
   "outputs": [
    {
     "data": {
      "text/plain": [
       "[125, 488, 'kunal', True, 52.6]"
      ]
     },
     "execution_count": 55,
     "metadata": {},
     "output_type": "execute_result"
    }
   ],
   "source": [
    "l"
   ]
  },
  {
   "cell_type": "code",
   "execution_count": 56,
   "id": "fa9a92ac-2ad0-4195-92fe-dc37eceb9c77",
   "metadata": {},
   "outputs": [],
   "source": [
    "l.append(5)"
   ]
  },
  {
   "cell_type": "code",
   "execution_count": 57,
   "id": "065d3c8b-3906-40c9-b6cd-2dbb506d5c1c",
   "metadata": {},
   "outputs": [
    {
     "data": {
      "text/plain": [
       "[125, 488, 'kunal', True, 52.6, 5]"
      ]
     },
     "execution_count": 57,
     "metadata": {},
     "output_type": "execute_result"
    }
   ],
   "source": [
    "l"
   ]
  },
  {
   "cell_type": "code",
   "execution_count": 58,
   "id": "cdc3037c-7c02-497a-8b5a-c74d9a4fd25e",
   "metadata": {},
   "outputs": [
    {
     "data": {
      "text/plain": [
       "'pwskills'"
      ]
     },
     "execution_count": 58,
     "metadata": {},
     "output_type": "execute_result"
    }
   ],
   "source": [
    "s"
   ]
  },
  {
   "cell_type": "code",
   "execution_count": 59,
   "id": "5a9ff1c8-2460-4df3-a357-67e2f27ee9f8",
   "metadata": {},
   "outputs": [],
   "source": [
    "l.append(s)"
   ]
  },
  {
   "cell_type": "code",
   "execution_count": 60,
   "id": "7e98dd0b-8309-4b42-9587-df899f08b8cc",
   "metadata": {},
   "outputs": [
    {
     "data": {
      "text/plain": [
       "[125, 488, 'kunal', True, 52.6, 5, 'pwskills']"
      ]
     },
     "execution_count": 60,
     "metadata": {},
     "output_type": "execute_result"
    }
   ],
   "source": [
    "l"
   ]
  },
  {
   "cell_type": "code",
   "execution_count": 61,
   "id": "454e6b42-7d44-4cba-9dc0-fab2d1ddef7b",
   "metadata": {},
   "outputs": [],
   "source": [
    "l.append(l1)"
   ]
  },
  {
   "cell_type": "code",
   "execution_count": 62,
   "id": "77984ad3-279f-4199-aea0-b477f9bc71d9",
   "metadata": {},
   "outputs": [
    {
     "data": {
      "text/plain": [
       "[125, 488, 'kunal', True, 52.6, 5, 'pwskills', [1, 5, 6]]"
      ]
     },
     "execution_count": 62,
     "metadata": {},
     "output_type": "execute_result"
    }
   ],
   "source": [
    "l"
   ]
  },
  {
   "cell_type": "code",
   "execution_count": 63,
   "id": "432f1e01-4311-4094-96d7-47c686195b8b",
   "metadata": {},
   "outputs": [
    {
     "data": {
      "text/plain": [
       "[1, 5, 6]"
      ]
     },
     "execution_count": 63,
     "metadata": {},
     "output_type": "execute_result"
    }
   ],
   "source": [
    "l[-1]"
   ]
  },
  {
   "cell_type": "code",
   "execution_count": 64,
   "id": "d4f257ad-ad2d-430a-a9ec-a3e72e939a44",
   "metadata": {},
   "outputs": [
    {
     "data": {
      "text/plain": [
       "5"
      ]
     },
     "execution_count": 64,
     "metadata": {},
     "output_type": "execute_result"
    }
   ],
   "source": [
    "l[-1][1]"
   ]
  },
  {
   "cell_type": "code",
   "execution_count": 65,
   "id": "bdd8eadf-abaa-4a33-b61b-dc9eaa44ad94",
   "metadata": {},
   "outputs": [
    {
     "ename": "TypeError",
     "evalue": "'int' object is not iterable",
     "output_type": "error",
     "traceback": [
      "\u001b[0;31m---------------------------------------------------------------------------\u001b[0m",
      "\u001b[0;31mTypeError\u001b[0m                                 Traceback (most recent call last)",
      "Cell \u001b[0;32mIn[65], line 1\u001b[0m\n\u001b[0;32m----> 1\u001b[0m \u001b[43ml\u001b[49m\u001b[38;5;241;43m.\u001b[39;49m\u001b[43mextend\u001b[49m\u001b[43m(\u001b[49m\u001b[38;5;241;43m4\u001b[39;49m\u001b[43m)\u001b[49m\n",
      "\u001b[0;31mTypeError\u001b[0m: 'int' object is not iterable"
     ]
    }
   ],
   "source": [
    "l.extend(4)"
   ]
  },
  {
   "cell_type": "code",
   "execution_count": 73,
   "id": "3ae6c7d6-53f3-4b37-8494-2602e4549104",
   "metadata": {},
   "outputs": [
    {
     "ename": "TypeError",
     "evalue": "list.extend() takes exactly one argument (0 given)",
     "output_type": "error",
     "traceback": [
      "\u001b[0;31m---------------------------------------------------------------------------\u001b[0m",
      "\u001b[0;31mTypeError\u001b[0m                                 Traceback (most recent call last)",
      "Cell \u001b[0;32mIn[73], line 1\u001b[0m\n\u001b[0;32m----> 1\u001b[0m \u001b[43ml\u001b[49m\u001b[38;5;241;43m.\u001b[39;49m\u001b[43mextend\u001b[49m\u001b[43m(\u001b[49m\u001b[43m)\u001b[49m\n",
      "\u001b[0;31mTypeError\u001b[0m: list.extend() takes exactly one argument (0 given)"
     ]
    }
   ],
   "source": [
    "l.extend()"
   ]
  },
  {
   "cell_type": "code",
   "execution_count": 70,
   "id": "a969e98c-138b-49fe-ade8-b7e0570e33ee",
   "metadata": {},
   "outputs": [
    {
     "data": {
      "text/plain": [
       "[125,\n",
       " 488,\n",
       " 'kunal',\n",
       " True,\n",
       " 52.6,\n",
       " 5,\n",
       " 'pwskills',\n",
       " [1, 5, 6],\n",
       " 'k',\n",
       " 'u',\n",
       " 'n',\n",
       " 'a',\n",
       " 'l',\n",
       " 125,\n",
       " 488,\n",
       " 'kunal',\n",
       " True,\n",
       " 52.6,\n",
       " 5,\n",
       " 'pwskills',\n",
       " [1, 5, 6],\n",
       " 'k',\n",
       " 'u',\n",
       " 'n',\n",
       " 'a',\n",
       " 'l']"
      ]
     },
     "execution_count": 70,
     "metadata": {},
     "output_type": "execute_result"
    }
   ],
   "source": [
    "l"
   ]
  },
  {
   "cell_type": "code",
   "execution_count": 74,
   "id": "8e83f4ff-b9f8-4bd6-ae45-a231ce19b0af",
   "metadata": {},
   "outputs": [
    {
     "data": {
      "text/plain": [
       "[125,\n",
       " 488,\n",
       " 'kunal',\n",
       " True,\n",
       " 52.6,\n",
       " 5,\n",
       " 'pwskills',\n",
       " [1, 5, 6],\n",
       " 'k',\n",
       " 'u',\n",
       " 'n',\n",
       " 'a',\n",
       " 'l',\n",
       " 125,\n",
       " 488,\n",
       " 'kunal',\n",
       " True,\n",
       " 52.6,\n",
       " 5,\n",
       " 'pwskills',\n",
       " [1, 5, 6],\n",
       " 'k',\n",
       " 'u',\n",
       " 'n',\n",
       " 'a',\n",
       " 'l']"
      ]
     },
     "execution_count": 74,
     "metadata": {},
     "output_type": "execute_result"
    }
   ],
   "source": [
    "l"
   ]
  },
  {
   "cell_type": "code",
   "execution_count": 75,
   "id": "d7afc282-df98-4dba-adb4-201ff79e8615",
   "metadata": {},
   "outputs": [],
   "source": [
    "l.extend([2,5,8])"
   ]
  },
  {
   "cell_type": "code",
   "execution_count": 76,
   "id": "35b0b11c-6d7a-4e3d-80a1-07abeea9603d",
   "metadata": {},
   "outputs": [
    {
     "data": {
      "text/plain": [
       "[125,\n",
       " 488,\n",
       " 'kunal',\n",
       " True,\n",
       " 52.6,\n",
       " 5,\n",
       " 'pwskills',\n",
       " [1, 5, 6],\n",
       " 'k',\n",
       " 'u',\n",
       " 'n',\n",
       " 'a',\n",
       " 'l',\n",
       " 125,\n",
       " 488,\n",
       " 'kunal',\n",
       " True,\n",
       " 52.6,\n",
       " 5,\n",
       " 'pwskills',\n",
       " [1, 5, 6],\n",
       " 'k',\n",
       " 'u',\n",
       " 'n',\n",
       " 'a',\n",
       " 'l',\n",
       " 2,\n",
       " 5,\n",
       " 8]"
      ]
     },
     "execution_count": 76,
     "metadata": {},
     "output_type": "execute_result"
    }
   ],
   "source": [
    "l"
   ]
  },
  {
   "cell_type": "code",
   "execution_count": 78,
   "id": "b43ac179-5fc9-4404-80d6-219634aaca64",
   "metadata": {},
   "outputs": [],
   "source": [
    "l.extend([2,5,8])"
   ]
  },
  {
   "cell_type": "code",
   "execution_count": null,
   "id": "e1136362-0134-4b33-9858-38387837fb08",
   "metadata": {},
   "outputs": [],
   "source": []
  },
  {
   "cell_type": "code",
   "execution_count": 79,
   "id": "2d87ff7a-12f6-4f00-9fc2-13ecfe7912f0",
   "metadata": {},
   "outputs": [
    {
     "data": {
      "text/plain": [
       "[125,\n",
       " 488,\n",
       " 'kunal',\n",
       " True,\n",
       " 52.6,\n",
       " 5,\n",
       " 'pwskills',\n",
       " [1, 5, 6],\n",
       " 'k',\n",
       " 'u',\n",
       " 'n',\n",
       " 'a',\n",
       " 'l',\n",
       " 125,\n",
       " 488,\n",
       " 'kunal',\n",
       " True,\n",
       " 52.6,\n",
       " 5,\n",
       " 'pwskills',\n",
       " [1, 5, 6],\n",
       " 'k',\n",
       " 'u',\n",
       " 'n',\n",
       " 'a',\n",
       " 'l',\n",
       " 2,\n",
       " 5,\n",
       " 8,\n",
       " 2,\n",
       " 5,\n",
       " 8]"
      ]
     },
     "execution_count": 79,
     "metadata": {},
     "output_type": "execute_result"
    }
   ],
   "source": [
    "l"
   ]
  },
  {
   "cell_type": "code",
   "execution_count": 80,
   "id": "8115fbcf-fe35-4be0-9341-905039c8a228",
   "metadata": {},
   "outputs": [
    {
     "data": {
      "text/plain": [
       "[1, 5, 6]"
      ]
     },
     "execution_count": 80,
     "metadata": {},
     "output_type": "execute_result"
    }
   ],
   "source": [
    "l1"
   ]
  },
  {
   "cell_type": "code",
   "execution_count": 81,
   "id": "1b0d3308-a986-4853-b0e7-4ba0ff40c182",
   "metadata": {},
   "outputs": [],
   "source": [
    "l.append(1)"
   ]
  },
  {
   "cell_type": "code",
   "execution_count": 82,
   "id": "c36d8b1f-12f0-45db-b39c-2238fd847fc1",
   "metadata": {},
   "outputs": [
    {
     "data": {
      "text/plain": [
       "[125,\n",
       " 488,\n",
       " 'kunal',\n",
       " True,\n",
       " 52.6,\n",
       " 5,\n",
       " 'pwskills',\n",
       " [1, 5, 6],\n",
       " 'k',\n",
       " 'u',\n",
       " 'n',\n",
       " 'a',\n",
       " 'l',\n",
       " 125,\n",
       " 488,\n",
       " 'kunal',\n",
       " True,\n",
       " 52.6,\n",
       " 5,\n",
       " 'pwskills',\n",
       " [1, 5, 6],\n",
       " 'k',\n",
       " 'u',\n",
       " 'n',\n",
       " 'a',\n",
       " 'l',\n",
       " 2,\n",
       " 5,\n",
       " 8,\n",
       " 2,\n",
       " 5,\n",
       " 8,\n",
       " 1]"
      ]
     },
     "execution_count": 82,
     "metadata": {},
     "output_type": "execute_result"
    }
   ],
   "source": [
    "l"
   ]
  },
  {
   "cell_type": "code",
   "execution_count": 83,
   "id": "5a5a80a0-cba3-4912-a4cf-351c25ef3ca9",
   "metadata": {},
   "outputs": [
    {
     "data": {
      "text/plain": [
       "[1, 5, 6]"
      ]
     },
     "execution_count": 83,
     "metadata": {},
     "output_type": "execute_result"
    }
   ],
   "source": [
    "l1"
   ]
  },
  {
   "cell_type": "code",
   "execution_count": 85,
   "id": "e6664551-d2ae-4bad-ad3b-20246d0baec6",
   "metadata": {},
   "outputs": [],
   "source": [
    "l1.insert(2,\"kunaal\")"
   ]
  },
  {
   "cell_type": "code",
   "execution_count": 86,
   "id": "998e732c-9fd1-4097-8fa7-42ecf12a57df",
   "metadata": {},
   "outputs": [
    {
     "data": {
      "text/plain": [
       "[1, 5, 'kunaal', 6]"
      ]
     },
     "execution_count": 86,
     "metadata": {},
     "output_type": "execute_result"
    }
   ],
   "source": [
    "l1"
   ]
  },
  {
   "cell_type": "code",
   "execution_count": 89,
   "id": "64e55ec8-83b3-4909-bfbe-4ba51ad18cc7",
   "metadata": {},
   "outputs": [],
   "source": [
    "l1.insert(1,(85,6,5))"
   ]
  },
  {
   "cell_type": "code",
   "execution_count": null,
   "id": "1112b26b-10b8-48b2-b4a0-ed2ec7d43107",
   "metadata": {},
   "outputs": [],
   "source": []
  },
  {
   "cell_type": "code",
   "execution_count": 90,
   "id": "4bc2d591-77db-46b3-adb7-e68892c511d3",
   "metadata": {},
   "outputs": [
    {
     "data": {
      "text/plain": [
       "[1, (85, 6, 5), [85, 6, 5], 5, 'kunaal', 6]"
      ]
     },
     "execution_count": 90,
     "metadata": {},
     "output_type": "execute_result"
    }
   ],
   "source": [
    "l1"
   ]
  },
  {
   "cell_type": "code",
   "execution_count": 101,
   "id": "8d2a709e-79b4-41d6-bbab-f7a6428c0a85",
   "metadata": {},
   "outputs": [],
   "source": [
    "l1.insert(-1,000)"
   ]
  },
  {
   "cell_type": "code",
   "execution_count": 102,
   "id": "ad51c915-45e4-4c5d-a187-d04555ccb380",
   "metadata": {},
   "outputs": [
    {
     "data": {
      "text/plain": [
       "[4, 1, (85, 6, 5), [85, 6, 5], 5, 'kunaal', 4, 4, 4, 0, 6]"
      ]
     },
     "execution_count": 102,
     "metadata": {},
     "output_type": "execute_result"
    }
   ],
   "source": [
    "l1"
   ]
  },
  {
   "cell_type": "code",
   "execution_count": 103,
   "id": "f552145d-7f21-44cf-a7b2-b2a984b9d4d2",
   "metadata": {},
   "outputs": [
    {
     "data": {
      "text/plain": [
       "6"
      ]
     },
     "execution_count": 103,
     "metadata": {},
     "output_type": "execute_result"
    }
   ],
   "source": [
    "l1.pop()"
   ]
  },
  {
   "cell_type": "code",
   "execution_count": 104,
   "id": "957d5373-7984-401f-8c61-8ba3512a95f7",
   "metadata": {},
   "outputs": [
    {
     "data": {
      "text/plain": [
       "[4, 1, (85, 6, 5), [85, 6, 5], 5, 'kunaal', 4, 4, 4, 0]"
      ]
     },
     "execution_count": 104,
     "metadata": {},
     "output_type": "execute_result"
    }
   ],
   "source": [
    "l1"
   ]
  },
  {
   "cell_type": "code",
   "execution_count": 105,
   "id": "4d19aad1-fb26-4891-a4c2-0376116ca235",
   "metadata": {},
   "outputs": [
    {
     "data": {
      "text/plain": [
       "1"
      ]
     },
     "execution_count": 105,
     "metadata": {},
     "output_type": "execute_result"
    }
   ],
   "source": [
    "l1.pop(1)"
   ]
  },
  {
   "cell_type": "code",
   "execution_count": 106,
   "id": "bbeae9e9-a5a4-45c3-b28a-32084277bcf0",
   "metadata": {},
   "outputs": [
    {
     "data": {
      "text/plain": [
       "[4, (85, 6, 5), [85, 6, 5], 5, 'kunaal', 4, 4, 4, 0]"
      ]
     },
     "execution_count": 106,
     "metadata": {},
     "output_type": "execute_result"
    }
   ],
   "source": [
    "l1"
   ]
  },
  {
   "cell_type": "code",
   "execution_count": 111,
   "id": "9f6c8100-7a3a-4935-a517-45eb97af887f",
   "metadata": {},
   "outputs": [
    {
     "data": {
      "text/plain": [
       "4"
      ]
     },
     "execution_count": 111,
     "metadata": {},
     "output_type": "execute_result"
    }
   ],
   "source": [
    "l1.pop(2)"
   ]
  },
  {
   "cell_type": "code",
   "execution_count": 112,
   "id": "6d5f487f-772a-400a-91ee-f148fc2acd93",
   "metadata": {},
   "outputs": [
    {
     "data": {
      "text/plain": [
       "[4, (85, 6, 5), 4, 4, 0]"
      ]
     },
     "execution_count": 112,
     "metadata": {},
     "output_type": "execute_result"
    }
   ],
   "source": [
    "l1"
   ]
  },
  {
   "cell_type": "code",
   "execution_count": 114,
   "id": "ae23db89-374c-4a5d-bad6-0236d9254b2c",
   "metadata": {},
   "outputs": [
    {
     "data": {
      "text/plain": [
       "4"
      ]
     },
     "execution_count": 114,
     "metadata": {},
     "output_type": "execute_result"
    }
   ],
   "source": [
    "l1.pop(2)"
   ]
  },
  {
   "cell_type": "code",
   "execution_count": 115,
   "id": "43709300-38f9-483e-a61b-62ac68e233d0",
   "metadata": {},
   "outputs": [
    {
     "data": {
      "text/plain": [
       "[4, (85, 6, 5), 0]"
      ]
     },
     "execution_count": 115,
     "metadata": {},
     "output_type": "execute_result"
    }
   ],
   "source": [
    "l1"
   ]
  },
  {
   "cell_type": "code",
   "execution_count": 121,
   "id": "a3e1e028-ee5a-4187-8e9b-d12598a28f42",
   "metadata": {},
   "outputs": [],
   "source": [
    "l1.append([145,4,85])"
   ]
  },
  {
   "cell_type": "code",
   "execution_count": 122,
   "id": "29274a94-888c-487d-ac72-4af2e471648a",
   "metadata": {},
   "outputs": [
    {
     "data": {
      "text/plain": [
       "[4, (85, 6, 5), 0, 145, [145, 4, 85]]"
      ]
     },
     "execution_count": 122,
     "metadata": {},
     "output_type": "execute_result"
    }
   ],
   "source": [
    "l1"
   ]
  },
  {
   "cell_type": "code",
   "execution_count": 123,
   "id": "dfa084f9-e6c7-4447-a824-542eefd7dc61",
   "metadata": {},
   "outputs": [
    {
     "data": {
      "text/plain": [
       "[145, 4, 85]"
      ]
     },
     "execution_count": 123,
     "metadata": {},
     "output_type": "execute_result"
    }
   ],
   "source": [
    "l1.pop(-1)"
   ]
  },
  {
   "cell_type": "code",
   "execution_count": 124,
   "id": "19b12523-6c99-4cd5-aadd-9abfcb4875da",
   "metadata": {},
   "outputs": [
    {
     "data": {
      "text/plain": [
       "[4, (85, 6, 5), 0, 145]"
      ]
     },
     "execution_count": 124,
     "metadata": {},
     "output_type": "execute_result"
    }
   ],
   "source": [
    "l1"
   ]
  },
  {
   "cell_type": "code",
   "execution_count": 126,
   "id": "d3d2effa-48c4-4b35-85f5-5875cd7e38e4",
   "metadata": {},
   "outputs": [],
   "source": [
    "l1.remove(4)"
   ]
  },
  {
   "cell_type": "code",
   "execution_count": 127,
   "id": "3b6e3632-b711-4fbb-94cb-73dab5336a4c",
   "metadata": {},
   "outputs": [
    {
     "data": {
      "text/plain": [
       "[(85, 6, 5), 0, 145]"
      ]
     },
     "execution_count": 127,
     "metadata": {},
     "output_type": "execute_result"
    }
   ],
   "source": [
    "l1"
   ]
  },
  {
   "cell_type": "code",
   "execution_count": 128,
   "id": "6650f3ec-d4f3-4e5d-8597-2fdecb2508f4",
   "metadata": {},
   "outputs": [
    {
     "data": {
      "text/plain": [
       "(85, 6, 5)"
      ]
     },
     "execution_count": 128,
     "metadata": {},
     "output_type": "execute_result"
    }
   ],
   "source": [
    "l1.pop(0)"
   ]
  },
  {
   "cell_type": "code",
   "execution_count": 129,
   "id": "707071cc-15e1-45fb-a901-4b874f3fe08e",
   "metadata": {},
   "outputs": [
    {
     "data": {
      "text/plain": [
       "[0, 145]"
      ]
     },
     "execution_count": 129,
     "metadata": {},
     "output_type": "execute_result"
    }
   ],
   "source": [
    "l1"
   ]
  },
  {
   "cell_type": "code",
   "execution_count": 130,
   "id": "dc3afd55-dddd-4334-a5a2-975e9e08fe79",
   "metadata": {},
   "outputs": [],
   "source": [
    "l1.extend([45,55])"
   ]
  },
  {
   "cell_type": "code",
   "execution_count": 131,
   "id": "a146db5e-6a0f-484a-aacd-5d7a630a218d",
   "metadata": {},
   "outputs": [
    {
     "data": {
      "text/plain": [
       "[0, 145, 45, 55]"
      ]
     },
     "execution_count": 131,
     "metadata": {},
     "output_type": "execute_result"
    }
   ],
   "source": [
    "l1"
   ]
  },
  {
   "cell_type": "code",
   "execution_count": 134,
   "id": "5b7dd41b-dc8c-427f-9635-d149bc0ed24e",
   "metadata": {},
   "outputs": [
    {
     "ename": "TypeError",
     "evalue": "list.append() takes exactly one argument (2 given)",
     "output_type": "error",
     "traceback": [
      "\u001b[0;31m---------------------------------------------------------------------------\u001b[0m",
      "\u001b[0;31mTypeError\u001b[0m                                 Traceback (most recent call last)",
      "Cell \u001b[0;32mIn[134], line 1\u001b[0m\n\u001b[0;32m----> 1\u001b[0m \u001b[43ml1\u001b[49m\u001b[38;5;241;43m.\u001b[39;49m\u001b[43mappend\u001b[49m\u001b[43m(\u001b[49m\u001b[38;5;241;43m45\u001b[39;49m\u001b[43m,\u001b[49m\u001b[38;5;241;43m5\u001b[39;49m\u001b[43m)\u001b[49m\n",
      "\u001b[0;31mTypeError\u001b[0m: list.append() takes exactly one argument (2 given)"
     ]
    }
   ],
   "source": [
    "l1.append(45,5)"
   ]
  },
  {
   "cell_type": "code",
   "execution_count": 133,
   "id": "84a6985f-8c19-4f67-abf6-371d266af8d7",
   "metadata": {},
   "outputs": [
    {
     "data": {
      "text/plain": [
       "[0, 145, 45, 55, [45, 5]]"
      ]
     },
     "execution_count": 133,
     "metadata": {},
     "output_type": "execute_result"
    }
   ],
   "source": [
    "l1"
   ]
  },
  {
   "cell_type": "code",
   "execution_count": 135,
   "id": "7c2b0b1a-ec66-41ea-8ffe-a29efeea11ad",
   "metadata": {},
   "outputs": [
    {
     "data": {
      "text/plain": [
       "[0, 145, 45, 55, [45, 5]]"
      ]
     },
     "execution_count": 135,
     "metadata": {},
     "output_type": "execute_result"
    }
   ],
   "source": [
    "l1"
   ]
  },
  {
   "cell_type": "code",
   "execution_count": 136,
   "id": "58a85d6a-33fd-46a5-b731-8ef3366ad2cd",
   "metadata": {},
   "outputs": [
    {
     "data": {
      "text/plain": [
       "[45, 5]"
      ]
     },
     "execution_count": 136,
     "metadata": {},
     "output_type": "execute_result"
    }
   ],
   "source": [
    "l1.pop(-1)"
   ]
  },
  {
   "cell_type": "code",
   "execution_count": 137,
   "id": "2001db62-9b7f-4f7a-8b35-b1fdfabc4f0f",
   "metadata": {},
   "outputs": [
    {
     "data": {
      "text/plain": [
       "[0, 145, 45, 55]"
      ]
     },
     "execution_count": 137,
     "metadata": {},
     "output_type": "execute_result"
    }
   ],
   "source": [
    "l1"
   ]
  },
  {
   "cell_type": "code",
   "execution_count": 140,
   "id": "f9d047fc-cca6-49e1-95e4-94c6de26382e",
   "metadata": {},
   "outputs": [],
   "source": [
    "l1.append([4,5,6])"
   ]
  },
  {
   "cell_type": "code",
   "execution_count": 141,
   "id": "39e5ba63-66c1-45d0-acab-341b3b4acf69",
   "metadata": {},
   "outputs": [
    {
     "data": {
      "text/plain": [
       "[0, 145, 45, 55, [4, 5, 6]]"
      ]
     },
     "execution_count": 141,
     "metadata": {},
     "output_type": "execute_result"
    }
   ],
   "source": [
    "l1"
   ]
  },
  {
   "cell_type": "code",
   "execution_count": 142,
   "id": "4a10cae5-f99a-4aa2-ae5a-17e360189d58",
   "metadata": {},
   "outputs": [],
   "source": [
    "l1[-1].remove(5)"
   ]
  },
  {
   "cell_type": "code",
   "execution_count": 143,
   "id": "07af3d3c-4d6f-4ea8-b5c0-ae3c519f88f5",
   "metadata": {},
   "outputs": [
    {
     "data": {
      "text/plain": [
       "[0, 145, 45, 55, [4, 6]]"
      ]
     },
     "execution_count": 143,
     "metadata": {},
     "output_type": "execute_result"
    }
   ],
   "source": [
    "l1"
   ]
  },
  {
   "cell_type": "code",
   "execution_count": 144,
   "id": "2c47ddd7-3016-46d6-8306-ec04b7b36b46",
   "metadata": {},
   "outputs": [],
   "source": [
    "l1.append([5,8,6,8,4])"
   ]
  },
  {
   "cell_type": "code",
   "execution_count": 145,
   "id": "8f122d0b-2f19-4856-a2cc-2f436b227575",
   "metadata": {},
   "outputs": [
    {
     "data": {
      "text/plain": [
       "[0, 145, 45, 55, [4, 6], [5, 8, 6, 8, 4]]"
      ]
     },
     "execution_count": 145,
     "metadata": {},
     "output_type": "execute_result"
    }
   ],
   "source": [
    "l1"
   ]
  },
  {
   "cell_type": "code",
   "execution_count": 146,
   "id": "6c0bdbd8-8ad8-435e-a56c-23179274fce0",
   "metadata": {},
   "outputs": [
    {
     "data": {
      "text/plain": [
       "6"
      ]
     },
     "execution_count": 146,
     "metadata": {},
     "output_type": "execute_result"
    }
   ],
   "source": [
    "l1[-1].pop(2)"
   ]
  },
  {
   "cell_type": "code",
   "execution_count": 147,
   "id": "5e2004c9-b6a3-4dfa-8c03-35bcd4849837",
   "metadata": {},
   "outputs": [
    {
     "data": {
      "text/plain": [
       "[0, 145, 45, 55, [4, 6], [5, 8, 8, 4]]"
      ]
     },
     "execution_count": 147,
     "metadata": {},
     "output_type": "execute_result"
    }
   ],
   "source": [
    "l1"
   ]
  },
  {
   "cell_type": "code",
   "execution_count": 158,
   "id": "324ed395-e769-4b4c-9ac6-459ee0e7eff9",
   "metadata": {},
   "outputs": [],
   "source": [
    "l1.reverse()  #permanent reserve"
   ]
  },
  {
   "cell_type": "code",
   "execution_count": 159,
   "id": "65aeaeec-ee60-4ddf-85e0-4dd456d50d45",
   "metadata": {},
   "outputs": [
    {
     "data": {
      "text/plain": [
       "[[5, 8, 8, 4], [4, 6], 55, 45, 145, 0]"
      ]
     },
     "execution_count": 159,
     "metadata": {},
     "output_type": "execute_result"
    }
   ],
   "source": [
    "l1"
   ]
  },
  {
   "cell_type": "code",
   "execution_count": 160,
   "id": "b2a0e487-957a-4bcd-81c0-15ce7bc0a42e",
   "metadata": {},
   "outputs": [],
   "source": [
    "l1=l1[::-1] #permanent reverse"
   ]
  },
  {
   "cell_type": "code",
   "execution_count": 161,
   "id": "0b162de2-1897-4478-9571-4d6c4276504c",
   "metadata": {},
   "outputs": [
    {
     "data": {
      "text/plain": [
       "[0, 145, 45, 55, [4, 6], [5, 8, 8, 4]]"
      ]
     },
     "execution_count": 161,
     "metadata": {},
     "output_type": "execute_result"
    }
   ],
   "source": [
    "l1"
   ]
  },
  {
   "cell_type": "code",
   "execution_count": 162,
   "id": "d6bf8b66-e6b1-47a0-8469-37b79a852a15",
   "metadata": {},
   "outputs": [],
   "source": [
    "l2 = [ 8,45,5,52,8,2,54]"
   ]
  },
  {
   "cell_type": "code",
   "execution_count": 163,
   "id": "3d4137b2-a3e7-4d96-bfd8-be27a2fa82b9",
   "metadata": {},
   "outputs": [
    {
     "data": {
      "text/plain": [
       "[8, 45, 5, 52, 8, 2, 54]"
      ]
     },
     "execution_count": 163,
     "metadata": {},
     "output_type": "execute_result"
    }
   ],
   "source": [
    "l2"
   ]
  },
  {
   "cell_type": "code",
   "execution_count": 164,
   "id": "95457d9d-4f17-464a-9bb6-3d285cd6b529",
   "metadata": {},
   "outputs": [],
   "source": [
    "l2.sort()"
   ]
  },
  {
   "cell_type": "code",
   "execution_count": 165,
   "id": "4ed18cf3-785c-443b-b84f-3a34b52c000f",
   "metadata": {},
   "outputs": [
    {
     "data": {
      "text/plain": [
       "[2, 5, 8, 8, 45, 52, 54]"
      ]
     },
     "execution_count": 165,
     "metadata": {},
     "output_type": "execute_result"
    }
   ],
   "source": [
    "l2"
   ]
  },
  {
   "cell_type": "code",
   "execution_count": 166,
   "id": "8288c304-6e77-4c20-8447-79d9fda3db78",
   "metadata": {},
   "outputs": [
    {
     "data": {
      "text/plain": [
       "[2, 5, 8, 8, 45, 52, 54]"
      ]
     },
     "execution_count": 166,
     "metadata": {},
     "output_type": "execute_result"
    }
   ],
   "source": [
    "l2"
   ]
  },
  {
   "cell_type": "code",
   "execution_count": 168,
   "id": "9ec25ce4-2caf-4b75-a52d-c26c6f0407eb",
   "metadata": {},
   "outputs": [],
   "source": [
    "l3 = [58,\"kunal\",5,45,\"Gnah\"]"
   ]
  },
  {
   "cell_type": "code",
   "execution_count": 169,
   "id": "d749100d-12ed-4043-a8f0-0f51e15f1fc4",
   "metadata": {},
   "outputs": [
    {
     "ename": "TypeError",
     "evalue": "'<' not supported between instances of 'str' and 'int'",
     "output_type": "error",
     "traceback": [
      "\u001b[0;31m---------------------------------------------------------------------------\u001b[0m",
      "\u001b[0;31mTypeError\u001b[0m                                 Traceback (most recent call last)",
      "Cell \u001b[0;32mIn[169], line 1\u001b[0m\n\u001b[0;32m----> 1\u001b[0m \u001b[43ml3\u001b[49m\u001b[38;5;241;43m.\u001b[39;49m\u001b[43msort\u001b[49m\u001b[43m(\u001b[49m\u001b[43m)\u001b[49m\n",
      "\u001b[0;31mTypeError\u001b[0m: '<' not supported between instances of 'str' and 'int'"
     ]
    }
   ],
   "source": [
    "l3.sort()"
   ]
  },
  {
   "cell_type": "code",
   "execution_count": 170,
   "id": "dfa8c06e-51f1-4a01-bdf1-3abeb8ff096f",
   "metadata": {},
   "outputs": [],
   "source": [
    "l4 = [\"kunal\", \"not\" , \"me\" , \"ok\"]"
   ]
  },
  {
   "cell_type": "code",
   "execution_count": 172,
   "id": "2dae6c86-f724-4bdc-a1b4-156cc75904c5",
   "metadata": {},
   "outputs": [
    {
     "data": {
      "text/plain": [
       "['kunal', 'not', 'me', 'ok']"
      ]
     },
     "execution_count": 172,
     "metadata": {},
     "output_type": "execute_result"
    }
   ],
   "source": [
    "l4"
   ]
  },
  {
   "cell_type": "code",
   "execution_count": 173,
   "id": "d6d5acba-e0e1-4002-b115-643161dc90c9",
   "metadata": {},
   "outputs": [],
   "source": [
    "l4.sort()"
   ]
  },
  {
   "cell_type": "code",
   "execution_count": 174,
   "id": "c7dc3f63-1ffd-4269-ae04-a7773779e4fa",
   "metadata": {},
   "outputs": [
    {
     "data": {
      "text/plain": [
       "['kunal', 'me', 'not', 'ok']"
      ]
     },
     "execution_count": 174,
     "metadata": {},
     "output_type": "execute_result"
    }
   ],
   "source": [
    "l4"
   ]
  },
  {
   "cell_type": "code",
   "execution_count": 175,
   "id": "3a5ba74d-81c4-499b-b497-2cf80df6fca4",
   "metadata": {},
   "outputs": [],
   "source": [
    "l4.sort(reverse = True)"
   ]
  },
  {
   "cell_type": "code",
   "execution_count": 176,
   "id": "ddd50305-2737-4f16-8859-d8f1e61f35a5",
   "metadata": {},
   "outputs": [
    {
     "data": {
      "text/plain": [
       "['ok', 'not', 'me', 'kunal']"
      ]
     },
     "execution_count": 176,
     "metadata": {},
     "output_type": "execute_result"
    }
   ],
   "source": [
    "l4"
   ]
  },
  {
   "cell_type": "code",
   "execution_count": 179,
   "id": "2ed88118-27f9-40ad-99a2-c8cee85eda26",
   "metadata": {},
   "outputs": [
    {
     "data": {
      "text/plain": [
       "1"
      ]
     },
     "execution_count": 179,
     "metadata": {},
     "output_type": "execute_result"
    }
   ],
   "source": [
    "l4.index('not')"
   ]
  },
  {
   "cell_type": "code",
   "execution_count": 180,
   "id": "982da7c0-0394-459e-a235-bfd225322047",
   "metadata": {},
   "outputs": [
    {
     "data": {
      "text/plain": [
       "1"
      ]
     },
     "execution_count": 180,
     "metadata": {},
     "output_type": "execute_result"
    }
   ],
   "source": [
    "l4.count('me')"
   ]
  },
  {
   "cell_type": "code",
   "execution_count": 181,
   "id": "970dc55f-831d-4c41-8f6d-f2fe83ada58b",
   "metadata": {},
   "outputs": [],
   "source": [
    "s= \"kunal\""
   ]
  },
  {
   "cell_type": "code",
   "execution_count": 182,
   "id": "8cc32d93-7209-4801-ab5d-dc06c4820974",
   "metadata": {},
   "outputs": [],
   "source": [
    "l5= [2,3,5,4,6,7]"
   ]
  },
  {
   "cell_type": "code",
   "execution_count": 183,
   "id": "b3cdf2e2-22bc-43b7-b3db-b3eb8d2b6407",
   "metadata": {},
   "outputs": [
    {
     "data": {
      "text/plain": [
       "'k'"
      ]
     },
     "execution_count": 183,
     "metadata": {},
     "output_type": "execute_result"
    }
   ],
   "source": [
    "s[0]"
   ]
  },
  {
   "cell_type": "code",
   "execution_count": 184,
   "id": "78d96c3d-00b2-4b5d-95da-baa960d3125f",
   "metadata": {},
   "outputs": [
    {
     "ename": "TypeError",
     "evalue": "'str' object does not support item assignment",
     "output_type": "error",
     "traceback": [
      "\u001b[0;31m---------------------------------------------------------------------------\u001b[0m",
      "\u001b[0;31mTypeError\u001b[0m                                 Traceback (most recent call last)",
      "Cell \u001b[0;32mIn[184], line 1\u001b[0m\n\u001b[0;32m----> 1\u001b[0m \u001b[43ms\u001b[49m\u001b[43m[\u001b[49m\u001b[38;5;241;43m0\u001b[39;49m\u001b[43m]\u001b[49m \u001b[38;5;241m=\u001b[39m \u001b[38;5;124m\"\u001b[39m\u001b[38;5;124ma\u001b[39m\u001b[38;5;124m\"\u001b[39m\n",
      "\u001b[0;31mTypeError\u001b[0m: 'str' object does not support item assignment"
     ]
    }
   ],
   "source": [
    "s[0] = \"a\""
   ]
  },
  {
   "cell_type": "code",
   "execution_count": 190,
   "id": "208317df-3485-4678-9f69-11628e6fa823",
   "metadata": {},
   "outputs": [],
   "source": [
    "l5[0] = 30  #mutable"
   ]
  },
  {
   "cell_type": "code",
   "execution_count": 191,
   "id": "c51ba03f-cdac-499e-ac89-21252ce4c030",
   "metadata": {},
   "outputs": [
    {
     "data": {
      "text/plain": [
       "[30, 3, 5, 4, 6, 7]"
      ]
     },
     "execution_count": 191,
     "metadata": {},
     "output_type": "execute_result"
    }
   ],
   "source": [
    "l5"
   ]
  },
  {
   "cell_type": "code",
   "execution_count": 192,
   "id": "d89ee673-20dc-4b4e-a75c-85b9b0148609",
   "metadata": {},
   "outputs": [
    {
     "data": {
      "text/plain": [
       "'kunal'"
      ]
     },
     "execution_count": 192,
     "metadata": {},
     "output_type": "execute_result"
    }
   ],
   "source": [
    "s"
   ]
  },
  {
   "cell_type": "code",
   "execution_count": 193,
   "id": "8a42af00-fd2b-4a14-972f-eea68024aba8",
   "metadata": {},
   "outputs": [
    {
     "data": {
      "text/plain": [
       "'kunaal'"
      ]
     },
     "execution_count": 193,
     "metadata": {},
     "output_type": "execute_result"
    }
   ],
   "source": [
    "s.replace('a' , 'aa')"
   ]
  },
  {
   "cell_type": "code",
   "execution_count": 194,
   "id": "140a2d63-2fe0-4d19-8721-7da4486261c8",
   "metadata": {},
   "outputs": [
    {
     "data": {
      "text/plain": [
       "'kunal'"
      ]
     },
     "execution_count": 194,
     "metadata": {},
     "output_type": "execute_result"
    }
   ],
   "source": [
    "s"
   ]
  },
  {
   "cell_type": "code",
   "execution_count": 195,
   "id": "a9912270-d722-47ea-80f1-3dcc23839b7c",
   "metadata": {},
   "outputs": [],
   "source": [
    "t=(2,5,2,5,7,8,5,4,\"kunal\",45.5,False)"
   ]
  },
  {
   "cell_type": "code",
   "execution_count": 196,
   "id": "82bf077c-760b-4093-aacf-84d65426abc8",
   "metadata": {},
   "outputs": [
    {
     "data": {
      "text/plain": [
       "(2, 5, 2, 5, 7, 8, 5, 4, 'kunal', 45.5, False)"
      ]
     },
     "execution_count": 196,
     "metadata": {},
     "output_type": "execute_result"
    }
   ],
   "source": [
    "t"
   ]
  },
  {
   "cell_type": "code",
   "execution_count": 197,
   "id": "6ecca596-3eeb-4f36-812b-4de61684d078",
   "metadata": {},
   "outputs": [
    {
     "data": {
      "text/plain": [
       "tuple"
      ]
     },
     "execution_count": 197,
     "metadata": {},
     "output_type": "execute_result"
    }
   ],
   "source": [
    "type(t)"
   ]
  },
  {
   "cell_type": "code",
   "execution_count": 198,
   "id": "8ac19ead-697b-4327-ad73-e1bf8362647d",
   "metadata": {},
   "outputs": [
    {
     "data": {
      "text/plain": [
       "2"
      ]
     },
     "execution_count": 198,
     "metadata": {},
     "output_type": "execute_result"
    }
   ],
   "source": [
    "t[0]"
   ]
  },
  {
   "cell_type": "code",
   "execution_count": 199,
   "id": "edbeb0f9-b76f-4698-9678-46d45d6c032a",
   "metadata": {},
   "outputs": [
    {
     "data": {
      "text/plain": [
       "(False, 45.5, 'kunal', 4, 5, 8, 7, 5, 2, 5, 2)"
      ]
     },
     "execution_count": 199,
     "metadata": {},
     "output_type": "execute_result"
    }
   ],
   "source": [
    "t[::-1]"
   ]
  },
  {
   "cell_type": "code",
   "execution_count": 200,
   "id": "1fd0f9c8-3754-492e-9d65-619aa193fa0e",
   "metadata": {},
   "outputs": [
    {
     "data": {
      "text/plain": [
       "False"
      ]
     },
     "execution_count": 200,
     "metadata": {},
     "output_type": "execute_result"
    }
   ],
   "source": [
    "t[-1]"
   ]
  },
  {
   "cell_type": "code",
   "execution_count": 201,
   "id": "82e19114-e147-4803-b7ca-254b35da9248",
   "metadata": {},
   "outputs": [
    {
     "data": {
      "text/plain": [
       "(2, 5, 2, 5, 7, 8, 5, 4, 'kunal', 45.5, False)"
      ]
     },
     "execution_count": 201,
     "metadata": {},
     "output_type": "execute_result"
    }
   ],
   "source": [
    "t"
   ]
  },
  {
   "cell_type": "code",
   "execution_count": 202,
   "id": "963c2ce4-f2e5-4764-8b73-6a7d53376fc5",
   "metadata": {},
   "outputs": [
    {
     "data": {
      "text/plain": [
       "['ok', 'not', 'me', 'kunal']"
      ]
     },
     "execution_count": 202,
     "metadata": {},
     "output_type": "execute_result"
    }
   ],
   "source": [
    "l4"
   ]
  },
  {
   "cell_type": "code",
   "execution_count": 203,
   "id": "553683b9-7485-4a2e-a5bf-052f70cc391e",
   "metadata": {},
   "outputs": [],
   "source": [
    "l4[0] = 12"
   ]
  },
  {
   "cell_type": "code",
   "execution_count": 204,
   "id": "f7c525c1-e241-4f58-9c38-72c445975111",
   "metadata": {},
   "outputs": [
    {
     "data": {
      "text/plain": [
       "[12, 'not', 'me', 'kunal']"
      ]
     },
     "execution_count": 204,
     "metadata": {},
     "output_type": "execute_result"
    }
   ],
   "source": [
    "l4"
   ]
  },
  {
   "cell_type": "code",
   "execution_count": 205,
   "id": "0d2b5d96-a96d-43e4-86fd-839cf73c9b5c",
   "metadata": {},
   "outputs": [
    {
     "ename": "TypeError",
     "evalue": "'tuple' object does not support item assignment",
     "output_type": "error",
     "traceback": [
      "\u001b[0;31m---------------------------------------------------------------------------\u001b[0m",
      "\u001b[0;31mTypeError\u001b[0m                                 Traceback (most recent call last)",
      "Cell \u001b[0;32mIn[205], line 1\u001b[0m\n\u001b[0;32m----> 1\u001b[0m \u001b[43mt\u001b[49m\u001b[43m[\u001b[49m\u001b[38;5;241;43m0\u001b[39;49m\u001b[43m]\u001b[49m \u001b[38;5;241m=\u001b[39m \u001b[38;5;241m1\u001b[39m\n",
      "\u001b[0;31mTypeError\u001b[0m: 'tuple' object does not support item assignment"
     ]
    }
   ],
   "source": [
    "t[0] = 1"
   ]
  },
  {
   "cell_type": "code",
   "execution_count": 207,
   "id": "b055eea3-7de2-4ee9-8b9b-3a9afb535716",
   "metadata": {},
   "outputs": [
    {
     "data": {
      "text/plain": [
       "1"
      ]
     },
     "execution_count": 207,
     "metadata": {},
     "output_type": "execute_result"
    }
   ],
   "source": [
    "t.count(4)"
   ]
  },
  {
   "cell_type": "code",
   "execution_count": 208,
   "id": "0cec3bac-cb3a-4579-8e8c-4b9f2412c29e",
   "metadata": {},
   "outputs": [
    {
     "data": {
      "text/plain": [
       "(2, 5, 2, 5, 7, 8, 5, 4, 'kunal', 45.5, False)"
      ]
     },
     "execution_count": 208,
     "metadata": {},
     "output_type": "execute_result"
    }
   ],
   "source": [
    "t\n"
   ]
  },
  {
   "cell_type": "code",
   "execution_count": 209,
   "id": "4ad8ab1a-2b82-433b-b902-a28cd9f73ade",
   "metadata": {},
   "outputs": [
    {
     "data": {
      "text/plain": [
       "9"
      ]
     },
     "execution_count": 209,
     "metadata": {},
     "output_type": "execute_result"
    }
   ],
   "source": [
    "t.index(45.5)"
   ]
  },
  {
   "cell_type": "code",
   "execution_count": 210,
   "id": "efdc615c-181f-4b2d-aef5-e2a4fcb29b59",
   "metadata": {},
   "outputs": [
    {
     "data": {
      "text/plain": [
       "(2, 5, 2, 5, 7, 8, 5, 4, 'kunal', 45.5, False)"
      ]
     },
     "execution_count": 210,
     "metadata": {},
     "output_type": "execute_result"
    }
   ],
   "source": [
    "t"
   ]
  },
  {
   "cell_type": "code",
   "execution_count": 211,
   "id": "76201c32-bf83-40f5-8f38-46dc2f506a56",
   "metadata": {},
   "outputs": [],
   "source": [
    "s1={}"
   ]
  },
  {
   "cell_type": "code",
   "execution_count": 212,
   "id": "1806ec94-fcd9-49fb-a344-705ee296d4e1",
   "metadata": {},
   "outputs": [
    {
     "data": {
      "text/plain": [
       "dict"
      ]
     },
     "execution_count": 212,
     "metadata": {},
     "output_type": "execute_result"
    }
   ],
   "source": [
    "type(s1)"
   ]
  },
  {
   "cell_type": "code",
   "execution_count": 213,
   "id": "03ffdc77-65b8-4fd2-8ef0-8d9fba56a3ac",
   "metadata": {},
   "outputs": [],
   "source": [
    "s2 = {2,3,4,5,6,7}"
   ]
  },
  {
   "cell_type": "code",
   "execution_count": 214,
   "id": "ec99f843-9307-49ba-87ab-d70e878457f5",
   "metadata": {},
   "outputs": [
    {
     "data": {
      "text/plain": [
       "set"
      ]
     },
     "execution_count": 214,
     "metadata": {},
     "output_type": "execute_result"
    }
   ],
   "source": [
    "type(s2)"
   ]
  },
  {
   "cell_type": "code",
   "execution_count": 223,
   "id": "04c13e37-ebc0-4271-ae77-3bf8a9073014",
   "metadata": {},
   "outputs": [
    {
     "ename": "TypeError",
     "evalue": "unhashable type: 'list'",
     "output_type": "error",
     "traceback": [
      "\u001b[0;31m---------------------------------------------------------------------------\u001b[0m",
      "\u001b[0;31mTypeError\u001b[0m                                 Traceback (most recent call last)",
      "Cell \u001b[0;32mIn[223], line 1\u001b[0m\n\u001b[0;32m----> 1\u001b[0m s3 \u001b[38;5;241m=\u001b[39m {\u001b[38;5;241m1\u001b[39m,\u001b[38;5;124m\"\u001b[39m\u001b[38;5;124mkunal\u001b[39m\u001b[38;5;124m\"\u001b[39m, \u001b[38;5;241m45\u001b[39m, \u001b[38;5;124m\"\u001b[39m\u001b[38;5;124mkbsg\u001b[39m\u001b[38;5;124m\"\u001b[39m, \u001b[38;5;241m45\u001b[39m, \u001b[38;5;241m77\u001b[39m, l, (\u001b[38;5;241m1\u001b[39m,\u001b[38;5;241m2\u001b[39m,\u001b[38;5;241m3\u001b[39m)}\n",
      "\u001b[0;31mTypeError\u001b[0m: unhashable type: 'list'"
     ]
    }
   ],
   "source": [
    "s3 = {1,\"kunal\", 45, \"kbsg\", 45, 77, l, (1,2,3)}"
   ]
  },
  {
   "cell_type": "markdown",
   "id": "7e584d4b-3f6a-42bd-8096-b801127fabcb",
   "metadata": {},
   "source": [
    "s3"
   ]
  },
  {
   "cell_type": "code",
   "execution_count": 221,
   "id": "ca677a9e-fb43-49e9-9313-c0905fdabfd0",
   "metadata": {},
   "outputs": [
    {
     "ename": "NameError",
     "evalue": "name 's3' is not defined",
     "output_type": "error",
     "traceback": [
      "\u001b[0;31m---------------------------------------------------------------------------\u001b[0m",
      "\u001b[0;31mNameError\u001b[0m                                 Traceback (most recent call last)",
      "Cell \u001b[0;32mIn[221], line 1\u001b[0m\n\u001b[0;32m----> 1\u001b[0m \u001b[43ms3\u001b[49m\n",
      "\u001b[0;31mNameError\u001b[0m: name 's3' is not defined"
     ]
    }
   ],
   "source": [
    "s3"
   ]
  },
  {
   "cell_type": "code",
   "execution_count": 226,
   "id": "cb0c203b-7c23-4daa-bb8f-85943fd87ac8",
   "metadata": {},
   "outputs": [],
   "source": [
    "s4={1,1,2,5,3,2,5,3,5,6,3,2,5,\"kunal\", \"Kunal\"}"
   ]
  },
  {
   "cell_type": "code",
   "execution_count": 227,
   "id": "755fae71-57ce-4cd2-95f0-af4cda4daac5",
   "metadata": {},
   "outputs": [
    {
     "data": {
      "text/plain": [
       "{1, 2, 3, 5, 6, 'Kunal', 'kunal'}"
      ]
     },
     "execution_count": 227,
     "metadata": {},
     "output_type": "execute_result"
    }
   ],
   "source": [
    "s4"
   ]
  },
  {
   "cell_type": "code",
   "execution_count": 229,
   "id": "81b5681b-d0fe-4fe8-a988-9a24971b196e",
   "metadata": {},
   "outputs": [
    {
     "data": {
      "text/plain": [
       "{1, 2, 3, 5, 6, 'Kunal', 'kunal'}"
      ]
     },
     "execution_count": 229,
     "metadata": {},
     "output_type": "execute_result"
    }
   ],
   "source": [
    "s4"
   ]
  },
  {
   "cell_type": "code",
   "execution_count": 233,
   "id": "9295f707-f8f1-4425-b8c0-2a8652153912",
   "metadata": {},
   "outputs": [],
   "source": [
    "l6 ={1,1,2,5,3,2,5,3,5,6,3,2,5,\"kunal\", \"Kunal\"}"
   ]
  },
  {
   "cell_type": "code",
   "execution_count": 231,
   "id": "d8fe5e52-3a59-4541-960e-00100a23bfd4",
   "metadata": {},
   "outputs": [],
   "source": [
    "l6 = list(set(l6))"
   ]
  },
  {
   "cell_type": "code",
   "execution_count": 234,
   "id": "42d31979-b839-4271-94b3-258e160f6b4f",
   "metadata": {},
   "outputs": [
    {
     "data": {
      "text/plain": [
       "{1, 2, 3, 5, 6, 'Kunal', 'kunal'}"
      ]
     },
     "execution_count": 234,
     "metadata": {},
     "output_type": "execute_result"
    }
   ],
   "source": [
    "l6"
   ]
  },
  {
   "cell_type": "code",
   "execution_count": 235,
   "id": "cd2e9f4a-bbb7-4d93-a0e9-3eeb5eda602e",
   "metadata": {},
   "outputs": [],
   "source": [
    "s5 = {25,6,8,2,4,8,48,75,8248,78,1,5,4,65,2,4,\"kunal\" , \"harami\"}"
   ]
  },
  {
   "cell_type": "code",
   "execution_count": 236,
   "id": "8ef27dad-cddb-4823-9449-c459cf0035ee",
   "metadata": {},
   "outputs": [
    {
     "data": {
      "text/plain": [
       "{1, 2, 25, 4, 48, 5, 6, 65, 75, 78, 8, 8248, 'harami', 'kunal'}"
      ]
     },
     "execution_count": 236,
     "metadata": {},
     "output_type": "execute_result"
    }
   ],
   "source": [
    "s5"
   ]
  },
  {
   "cell_type": "code",
   "execution_count": 237,
   "id": "58df6370-06d3-439e-a3dd-2740da5bd1cc",
   "metadata": {},
   "outputs": [
    {
     "ename": "TypeError",
     "evalue": "'set' object is not subscriptable",
     "output_type": "error",
     "traceback": [
      "\u001b[0;31m---------------------------------------------------------------------------\u001b[0m",
      "\u001b[0;31mTypeError\u001b[0m                                 Traceback (most recent call last)",
      "Cell \u001b[0;32mIn[237], line 1\u001b[0m\n\u001b[0;32m----> 1\u001b[0m \u001b[43ms5\u001b[49m\u001b[43m[\u001b[49m\u001b[43m:\u001b[49m\u001b[43m:\u001b[49m\u001b[38;5;241;43m-\u001b[39;49m\u001b[38;5;241;43m1\u001b[39;49m\u001b[43m]\u001b[49m\n",
      "\u001b[0;31mTypeError\u001b[0m: 'set' object is not subscriptable"
     ]
    }
   ],
   "source": [
    "s5[::-1]"
   ]
  },
  {
   "cell_type": "code",
   "execution_count": 238,
   "id": "9a1d8f05-d7d0-40a0-8267-436751afbb9e",
   "metadata": {},
   "outputs": [],
   "source": [
    "s5.add(44)"
   ]
  },
  {
   "cell_type": "code",
   "execution_count": 239,
   "id": "f190afb2-7d14-4aee-a3c7-83b0309403ff",
   "metadata": {},
   "outputs": [
    {
     "data": {
      "text/plain": [
       "{1, 2, 25, 4, 44, 48, 5, 6, 65, 75, 78, 8, 8248, 'harami', 'kunal'}"
      ]
     },
     "execution_count": 239,
     "metadata": {},
     "output_type": "execute_result"
    }
   ],
   "source": [
    "s5"
   ]
  },
  {
   "cell_type": "code",
   "execution_count": 240,
   "id": "3f8dfa6c-b0fa-422d-90a3-8bc367530bec",
   "metadata": {},
   "outputs": [],
   "source": [
    "s5.remove(8)"
   ]
  },
  {
   "cell_type": "code",
   "execution_count": 241,
   "id": "057ad542-df5f-4c56-b51f-90a359c24e43",
   "metadata": {},
   "outputs": [
    {
     "data": {
      "text/plain": [
       "{1, 2, 25, 4, 44, 48, 5, 6, 65, 75, 78, 8248, 'harami', 'kunal'}"
      ]
     },
     "execution_count": 241,
     "metadata": {},
     "output_type": "execute_result"
    }
   ],
   "source": [
    "s5"
   ]
  },
  {
   "cell_type": "code",
   "execution_count": 244,
   "id": "48eee743-fe5f-4873-8833-32ba26e62982",
   "metadata": {},
   "outputs": [
    {
     "ename": "AttributeError",
     "evalue": "'set' object has no attribute 'index'",
     "output_type": "error",
     "traceback": [
      "\u001b[0;31m---------------------------------------------------------------------------\u001b[0m",
      "\u001b[0;31mAttributeError\u001b[0m                            Traceback (most recent call last)",
      "Cell \u001b[0;32mIn[244], line 1\u001b[0m\n\u001b[0;32m----> 1\u001b[0m \u001b[43ms5\u001b[49m\u001b[38;5;241;43m.\u001b[39;49m\u001b[43mindex\u001b[49m(\u001b[38;5;241m4\u001b[39m)\n",
      "\u001b[0;31mAttributeError\u001b[0m: 'set' object has no attribute 'index'"
     ]
    }
   ],
   "source": [
    "\n",
    "\n",
    "\n"
   ]
  },
  {
   "cell_type": "code",
   "execution_count": null,
   "id": "0fd0ad2d-6f98-42a0-a3d3-c9d8400a2118",
   "metadata": {},
   "outputs": [],
   "source": []
  }
 ],
 "metadata": {
  "kernelspec": {
   "display_name": "Python 3 (ipykernel)",
   "language": "python",
   "name": "python3"
  },
  "language_info": {
   "codemirror_mode": {
    "name": "ipython",
    "version": 3
   },
   "file_extension": ".py",
   "mimetype": "text/x-python",
   "name": "python",
   "nbconvert_exporter": "python",
   "pygments_lexer": "ipython3",
   "version": "3.10.8"
  }
 },
 "nbformat": 4,
 "nbformat_minor": 5
}
