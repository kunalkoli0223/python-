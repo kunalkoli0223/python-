{
 "cells": [
  {
   "cell_type": "code",
   "execution_count": 1,
   "id": "0d092c41-0e4e-414e-8176-6f6772255c97",
   "metadata": {},
   "outputs": [],
   "source": [
    "d = {}"
   ]
  },
  {
   "cell_type": "code",
   "execution_count": 2,
   "id": "c79f83ae-715f-4da8-bf9c-a3a79bac3958",
   "metadata": {},
   "outputs": [
    {
     "data": {
      "text/plain": [
       "dict"
      ]
     },
     "execution_count": 2,
     "metadata": {},
     "output_type": "execute_result"
    }
   ],
   "source": [
    "type(d)"
   ]
  },
  {
   "cell_type": "code",
   "execution_count": 3,
   "id": "ffdbc463-f7ec-4db0-ba63-79f7ec13d2db",
   "metadata": {},
   "outputs": [],
   "source": [
    "d3 = { 234 : \"kunal\" ,\"_wer\" : \" koli\" , True : 123}"
   ]
  },
  {
   "cell_type": "code",
   "execution_count": 5,
   "id": "9a9221e7-9c9a-4e51-af84-ea6b8369e1a6",
   "metadata": {},
   "outputs": [
    {
     "data": {
      "text/plain": [
       "'kunal'"
      ]
     },
     "execution_count": 5,
     "metadata": {},
     "output_type": "execute_result"
    }
   ],
   "source": [
    "d3[234]"
   ]
  },
  {
   "cell_type": "code",
   "execution_count": 15,
   "id": "d4887138-6e2d-44bc-9a86-07b339fe492a",
   "metadata": {},
   "outputs": [
    {
     "data": {
      "text/plain": [
       "123"
      ]
     },
     "execution_count": 15,
     "metadata": {},
     "output_type": "execute_result"
    }
   ],
   "source": [
    "d3[1]   #True = 1 False = 0\n",
    "\n"
   ]
  },
  {
   "cell_type": "code",
   "execution_count": 13,
   "id": "86fd173b-a659-417d-8457-2e12c6f5592e",
   "metadata": {},
   "outputs": [],
   "source": [
    "d4 =  {\"name\":\" kunal\" , \"mail_id\" : \"kunalkoli0223@gmail.com\" , \"name\" : \"kunal koli\"}"
   ]
  },
  {
   "cell_type": "code",
   "execution_count": 14,
   "id": "dd1dc012-60de-4ef2-ba1d-c6074a11c251",
   "metadata": {},
   "outputs": [
    {
     "data": {
      "text/plain": [
       "'kunal koli'"
      ]
     },
     "execution_count": 14,
     "metadata": {},
     "output_type": "execute_result"
    }
   ],
   "source": [
    "d4[\"name\"]"
   ]
  },
  {
   "cell_type": "code",
   "execution_count": 20,
   "id": "f4e362ce-ab42-4e97-a729-0914847baf5d",
   "metadata": {},
   "outputs": [],
   "source": [
    "d5={\"company\" : \"pwskills\" , \"courses\" : [\"web dev\" , \"data science\" ,\"java with dsa\"]}"
   ]
  },
  {
   "cell_type": "code",
   "execution_count": 22,
   "id": "d72ef108-3999-4499-b14f-20b95bf9ae50",
   "metadata": {},
   "outputs": [
    {
     "data": {
      "text/plain": [
       "{'company': 'pwskills',\n",
       " 'courses': ['web dev', 'data science', 'java with dsa']}"
      ]
     },
     "execution_count": 22,
     "metadata": {},
     "output_type": "execute_result"
    }
   ],
   "source": [
    "d5"
   ]
  },
  {
   "cell_type": "code",
   "execution_count": 21,
   "id": "de6ebcd1-7ccf-4c8b-af77-693ed78c9d64",
   "metadata": {},
   "outputs": [
    {
     "data": {
      "text/plain": [
       "['web dev', 'data science', 'java with dsa']"
      ]
     },
     "execution_count": 21,
     "metadata": {},
     "output_type": "execute_result"
    }
   ],
   "source": [
    "d5[\"courses\"]"
   ]
  },
  {
   "cell_type": "code",
   "execution_count": 23,
   "id": "3f99ffe2-805c-46a5-a5af-9081615b1279",
   "metadata": {},
   "outputs": [
    {
     "data": {
      "text/plain": [
       "'java with dsa'"
      ]
     },
     "execution_count": 23,
     "metadata": {},
     "output_type": "execute_result"
    }
   ],
   "source": [
    "d5[\"courses\"][2]"
   ]
  },
  {
   "cell_type": "code",
   "execution_count": 26,
   "id": "46da0df6-757d-4b07-8583-84a3a8dfb68b",
   "metadata": {},
   "outputs": [],
   "source": [
    "d6={\"number\" : [2,3,5,6,88,5,45,47] , \"assignment\" : (1,2,3,5,6,8,9,2,5,8,2) ,\"launch_date\" : {28,24,14}, \"class_time\" : {\"web dev\": 8, \"data science\" : 8, \" java with dsa \" : 7}}"
   ]
  },
  {
   "cell_type": "code",
   "execution_count": 27,
   "id": "4aa4227f-aff5-4740-9a0b-dfdf2046f21f",
   "metadata": {},
   "outputs": [
    {
     "data": {
      "text/plain": [
       "{'number': [2, 3, 5, 6, 88, 5, 45, 47],\n",
       " 'assignment': (1, 2, 3, 5, 6, 8, 9, 2, 5, 8, 2),\n",
       " 'launch_date': {14, 24, 28},\n",
       " 'class_time': {'web dev': 8, 'data science': 8, ' java with dsa ': 7}}"
      ]
     },
     "execution_count": 27,
     "metadata": {},
     "output_type": "execute_result"
    }
   ],
   "source": [
    "d6"
   ]
  },
  {
   "cell_type": "code",
   "execution_count": 31,
   "id": "1fa0c82d-082a-4ed7-a436-89a8a3009bdf",
   "metadata": {},
   "outputs": [
    {
     "data": {
      "text/plain": [
       "7"
      ]
     },
     "execution_count": 31,
     "metadata": {},
     "output_type": "execute_result"
    }
   ],
   "source": [
    "d6[\"class_time\"][' java with dsa ']"
   ]
  },
  {
   "cell_type": "code",
   "execution_count": 32,
   "id": "f54c4902-0f5b-481c-84fa-3e7f42f40693",
   "metadata": {},
   "outputs": [],
   "source": [
    "d6['mentor'] = [\"sudhanshu\", \"krish\",\"anurag\",\"hyder\"]"
   ]
  },
  {
   "cell_type": "code",
   "execution_count": 33,
   "id": "9c56dbc9-8749-49b1-b4ce-ce6fd6ddf7c7",
   "metadata": {},
   "outputs": [
    {
     "data": {
      "text/plain": [
       "{'number': [2, 3, 5, 6, 88, 5, 45, 47],\n",
       " 'assignment': (1, 2, 3, 5, 6, 8, 9, 2, 5, 8, 2),\n",
       " 'launch_date': {14, 24, 28},\n",
       " 'class_time': {'web dev': 8, 'data science': 8, ' java with dsa ': 7},\n",
       " 'mentor': ['sudhanshu', 'krish', 'anurag', 'hyder']}"
      ]
     },
     "execution_count": 33,
     "metadata": {},
     "output_type": "execute_result"
    }
   ],
   "source": [
    "d6"
   ]
  },
  {
   "cell_type": "code",
   "execution_count": 34,
   "id": "adea8073-1181-4e65-a76b-cb04397f7341",
   "metadata": {},
   "outputs": [],
   "source": [
    "del d6[\"number\"]"
   ]
  },
  {
   "cell_type": "code",
   "execution_count": 35,
   "id": "736ca89b-3ec3-4b18-a79f-010bb2c8bfbe",
   "metadata": {},
   "outputs": [
    {
     "data": {
      "text/plain": [
       "{'assignment': (1, 2, 3, 5, 6, 8, 9, 2, 5, 8, 2),\n",
       " 'launch_date': {14, 24, 28},\n",
       " 'class_time': {'web dev': 8, 'data science': 8, ' java with dsa ': 7},\n",
       " 'mentor': ['sudhanshu', 'krish', 'anurag', 'hyder']}"
      ]
     },
     "execution_count": 35,
     "metadata": {},
     "output_type": "execute_result"
    }
   ],
   "source": [
    "d6\n"
   ]
  },
  {
   "cell_type": "code",
   "execution_count": 38,
   "id": "532214d4-7c38-4fa8-a757-48e86d676024",
   "metadata": {},
   "outputs": [
    {
     "data": {
      "text/plain": [
       "dict_keys(['assignment', 'launch_date', 'class_time', 'mentor'])"
      ]
     },
     "execution_count": 38,
     "metadata": {},
     "output_type": "execute_result"
    }
   ],
   "source": [
    "d6.keys()"
   ]
  },
  {
   "cell_type": "code",
   "execution_count": 39,
   "id": "a788b057-654b-474b-bc9f-5b6f5630be98",
   "metadata": {},
   "outputs": [
    {
     "data": {
      "text/plain": [
       "['assignment', 'launch_date', 'class_time', 'mentor']"
      ]
     },
     "execution_count": 39,
     "metadata": {},
     "output_type": "execute_result"
    }
   ],
   "source": [
    "list(d6.keys())"
   ]
  },
  {
   "cell_type": "code",
   "execution_count": 40,
   "id": "da768897-4201-4c15-8330-958d3147c2e8",
   "metadata": {},
   "outputs": [
    {
     "data": {
      "text/plain": [
       "[(1, 2, 3, 5, 6, 8, 9, 2, 5, 8, 2),\n",
       " {14, 24, 28},\n",
       " {'web dev': 8, 'data science': 8, ' java with dsa ': 7},\n",
       " ['sudhanshu', 'krish', 'anurag', 'hyder']]"
      ]
     },
     "execution_count": 40,
     "metadata": {},
     "output_type": "execute_result"
    }
   ],
   "source": [
    "list(d6.values())"
   ]
  },
  {
   "cell_type": "code",
   "execution_count": 41,
   "id": "603abaf6-132c-4290-a795-227a085d8267",
   "metadata": {},
   "outputs": [
    {
     "data": {
      "text/plain": [
       "dict_values([(1, 2, 3, 5, 6, 8, 9, 2, 5, 8, 2), {24, 28, 14}, {'web dev': 8, 'data science': 8, ' java with dsa ': 7}, ['sudhanshu', 'krish', 'anurag', 'hyder']])"
      ]
     },
     "execution_count": 41,
     "metadata": {},
     "output_type": "execute_result"
    }
   ],
   "source": [
    "d6.values()"
   ]
  },
  {
   "cell_type": "code",
   "execution_count": 42,
   "id": "f70744e5-56fe-476e-9018-f239f8e7cc90",
   "metadata": {},
   "outputs": [
    {
     "data": {
      "text/plain": [
       "[('assignment', (1, 2, 3, 5, 6, 8, 9, 2, 5, 8, 2)),\n",
       " ('launch_date', {14, 24, 28}),\n",
       " ('class_time', {'web dev': 8, 'data science': 8, ' java with dsa ': 7}),\n",
       " ('mentor', ['sudhanshu', 'krish', 'anurag', 'hyder'])]"
      ]
     },
     "execution_count": 42,
     "metadata": {},
     "output_type": "execute_result"
    }
   ],
   "source": [
    "list(d6.items())"
   ]
  },
  {
   "cell_type": "code",
   "execution_count": 44,
   "id": "bb3e6ff3-d2d1-4ebe-a81d-6cb92b5383b4",
   "metadata": {},
   "outputs": [
    {
     "data": {
      "text/plain": [
       "(1, 2, 3, 5, 6, 8, 9, 2, 5, 8, 2)"
      ]
     },
     "execution_count": 44,
     "metadata": {},
     "output_type": "execute_result"
    }
   ],
   "source": [
    "d6.pop(\"assignment\") "
   ]
  },
  {
   "cell_type": "code",
   "execution_count": 45,
   "id": "2c33053f-8a91-4f59-a3b9-501ab550e503",
   "metadata": {},
   "outputs": [
    {
     "data": {
      "text/plain": [
       "{'launch_date': {14, 24, 28},\n",
       " 'class_time': {'web dev': 8, 'data science': 8, ' java with dsa ': 7},\n",
       " 'mentor': ['sudhanshu', 'krish', 'anurag', 'hyder']}"
      ]
     },
     "execution_count": 45,
     "metadata": {},
     "output_type": "execute_result"
    }
   ],
   "source": [
    "d6"
   ]
  },
  {
   "cell_type": "code",
   "execution_count": 27,
   "id": "6af11019-a480-4e82-9f9b-6fc3891bbf6d",
   "metadata": {},
   "outputs": [
    {
     "name": "stdin",
     "output_type": "stream",
     "text": [
      "your marks 75\n"
     ]
    },
    {
     "name": "stdout",
     "output_type": "stream",
     "text": [
      "you will be a part of A1 batch\n"
     ]
    }
   ],
   "source": [
    "marks = int(input(\"your marks\"))\n",
    "if marks >= 80 : \n",
    "    print(\"you will be a part of A0 batch\")\n",
    "elif marks >= 60 and marks < 80 : \n",
    "     print(\"you will be a part of A1 batch\")\n",
    "elif marks >= 40 and marks < 60 : \n",
    "    print(\"you will be a part of A2 batch\")\n",
    "else :\n",
    "     print(\"you will be a part of A3 batch\")"
   ]
  },
  {
   "cell_type": "code",
   "execution_count": null,
   "id": "8bbc2bd0-ab32-4435-80f2-d349bebc77a6",
   "metadata": {},
   "outputs": [],
   "source": []
  },
  {
   "cell_type": "code",
   "execution_count": 28,
   "id": "82ad8cf8-0b11-458b-bf87-c05747c85595",
   "metadata": {},
   "outputs": [
    {
     "name": "stdin",
     "output_type": "stream",
     "text": [
      "enter price 5000\n"
     ]
    },
    {
     "name": "stdout",
     "output_type": "stream",
     "text": [
      " i will not purchase\n"
     ]
    }
   ],
   "source": [
    "price= int(input(\"enter price\"))\n",
    "if price > 1000 : \n",
    "    print(\" i will not purchase\")\n",
    "else : \n",
    "    print(\"i will purchase\")"
   ]
  },
  {
   "cell_type": "code",
   "execution_count": 29,
   "id": "72bdfc89-5415-48c5-9681-74f0bcc45ec6",
   "metadata": {},
   "outputs": [
    {
     "name": "stdin",
     "output_type": "stream",
     "text": [
      "enter price 422\n"
     ]
    },
    {
     "name": "stdout",
     "output_type": "stream",
     "text": [
      "i will purchase\n"
     ]
    }
   ],
   "source": [
    "price = int(input(\"enter price\"))\n",
    "if price > 1000 : \n",
    "    print(\" i will not purchase\")\n",
    "else : \n",
    "    print(\"i will purchase\")\n",
    "    "
   ]
  },
  {
   "cell_type": "code",
   "execution_count": 3,
   "id": "a2245ae2-18b0-443d-b9d4-5991d34bf90c",
   "metadata": {},
   "outputs": [
    {
     "name": "stdin",
     "output_type": "stream",
     "text": [
      "enter price 1500\n"
     ]
    },
    {
     "name": "stdout",
     "output_type": "stream",
     "text": [
      " i will not purchase\n",
      "its ok\n"
     ]
    }
   ],
   "source": [
    "price = int(input(\"enter price\"))\n",
    "if price > 1000 : \n",
    "    print(\" i will not purchase\")\n",
    "    if price > 5000 :\n",
    "        print (\"this is too much\")\n",
    "    elif price <2000 :\n",
    "        print(\"its ok\")\n",
    "elif price < 1000:\n",
    "    print(\" i will purchase\") \n",
    "else :\n",
    "    print(\"not interested\")"
   ]
  },
  {
   "cell_type": "code",
   "execution_count": 6,
   "id": "45c72d1c-bb40-4fc3-a111-29ae5a26974c",
   "metadata": {},
   "outputs": [],
   "source": [
    "l= [1,2,3,4,5,6,7,8,9]"
   ]
  },
  {
   "cell_type": "code",
   "execution_count": 7,
   "id": "1be1138d-1fb5-498f-b08d-d819eda25e34",
   "metadata": {},
   "outputs": [
    {
     "data": {
      "text/plain": [
       "2"
      ]
     },
     "execution_count": 7,
     "metadata": {},
     "output_type": "execute_result"
    }
   ],
   "source": [
    "l[0] +1\n"
   ]
  },
  {
   "cell_type": "code",
   "execution_count": 8,
   "id": "a968e1b1-1eb1-4f2e-8592-8a5dcc56ede0",
   "metadata": {},
   "outputs": [],
   "source": [
    "l1=[]"
   ]
  },
  {
   "cell_type": "code",
   "execution_count": 9,
   "id": "3e6090cc-88f7-478b-b055-6a0112d7bce3",
   "metadata": {},
   "outputs": [],
   "source": [
    "l1.append(l[0] +1)\n"
   ]
  },
  {
   "cell_type": "code",
   "execution_count": 10,
   "id": "9bf5a0bc-c4a9-4309-9984-b64421578fbd",
   "metadata": {},
   "outputs": [
    {
     "data": {
      "text/plain": [
       "[2]"
      ]
     },
     "execution_count": 10,
     "metadata": {},
     "output_type": "execute_result"
    }
   ],
   "source": [
    "l1"
   ]
  },
  {
   "cell_type": "raw",
   "id": "2b9548a0-553e-46c6-901c-d5e16c691344",
   "metadata": {},
   "source": []
  },
  {
   "cell_type": "code",
   "execution_count": 12,
   "id": "19a0498b-4247-4b5c-8cb7-32f2b80a50c9",
   "metadata": {},
   "outputs": [
    {
     "data": {
      "text/plain": [
       "[1, 2, 3, 4, 5, 6, 7, 8, 9]"
      ]
     },
     "execution_count": 12,
     "metadata": {},
     "output_type": "execute_result"
    }
   ],
   "source": [
    "l"
   ]
  },
  {
   "cell_type": "code",
   "execution_count": 13,
   "id": "2cfc1edb-b378-4a1c-9b56-e64fdffb7a4f",
   "metadata": {},
   "outputs": [
    {
     "name": "stdout",
     "output_type": "stream",
     "text": [
      "1\n",
      "2\n",
      "3\n",
      "4\n",
      "5\n",
      "6\n",
      "7\n",
      "8\n",
      "9\n"
     ]
    }
   ],
   "source": [
    "for i in l :\n",
    "    print(i)"
   ]
  },
  {
   "cell_type": "code",
   "execution_count": 15,
   "id": "f59b5d06-2af4-4508-85fe-2b913ab5585d",
   "metadata": {},
   "outputs": [
    {
     "name": "stdout",
     "output_type": "stream",
     "text": [
      "2\n",
      "3\n",
      "4\n",
      "5\n",
      "6\n",
      "7\n",
      "8\n",
      "9\n",
      "10\n"
     ]
    },
    {
     "data": {
      "text/plain": [
       "[2, 3, 4, 5, 6, 7, 8, 9, 10]"
      ]
     },
     "execution_count": 15,
     "metadata": {},
     "output_type": "execute_result"
    }
   ],
   "source": [
    "l1=[]\n",
    "for i in l :\n",
    "    print(i+1)\n",
    "    l1.append(i+1)\n",
    "l1"
   ]
  },
  {
   "cell_type": "code",
   "execution_count": 16,
   "id": "61bb15b6-2ecb-4fde-95a3-c1ea7e83451d",
   "metadata": {},
   "outputs": [
    {
     "data": {
      "text/plain": [
       "[1, 2, 3, 4, 5, 6, 7, 8, 9]"
      ]
     },
     "execution_count": 16,
     "metadata": {},
     "output_type": "execute_result"
    }
   ],
   "source": [
    "l"
   ]
  },
  {
   "cell_type": "code",
   "execution_count": 17,
   "id": "0a1bc9f4-c227-4bf4-8572-1db5f4ab8f72",
   "metadata": {},
   "outputs": [
    {
     "data": {
      "text/plain": [
       "[2, 3, 4, 5, 6, 7, 8, 9, 10]"
      ]
     },
     "execution_count": 17,
     "metadata": {},
     "output_type": "execute_result"
    }
   ],
   "source": [
    "l1"
   ]
  },
  {
   "cell_type": "code",
   "execution_count": 18,
   "id": "924073f8-fc17-478a-9f63-3b84d83e828c",
   "metadata": {},
   "outputs": [],
   "source": [
    "l = [\"kunal\" , \"koli\" , \"pwskills\" , \"course\"]"
   ]
  },
  {
   "cell_type": "code",
   "execution_count": 19,
   "id": "8b37bd7d-043d-402c-a7a2-cda1902f5553",
   "metadata": {},
   "outputs": [
    {
     "name": "stdout",
     "output_type": "stream",
     "text": [
      "kunal\n",
      "koli\n",
      "pwskills\n",
      "course\n"
     ]
    }
   ],
   "source": [
    "for i in l :\n",
    "    print(i)"
   ]
  },
  {
   "cell_type": "code",
   "execution_count": 20,
   "id": "873179ce-3ae1-4710-9b62-113a54814069",
   "metadata": {},
   "outputs": [
    {
     "name": "stdout",
     "output_type": "stream",
     "text": [
      "kunal\n",
      "koli\n",
      "pwskills\n",
      "course\n"
     ]
    }
   ],
   "source": [
    "l1 =[]\n",
    "for i in l :\n",
    "    print(i)\n",
    "    l1.append(i.upper())"
   ]
  },
  {
   "cell_type": "code",
   "execution_count": 21,
   "id": "2ad883a1-d395-4ba7-b126-940183bcfced",
   "metadata": {},
   "outputs": [
    {
     "data": {
      "text/plain": [
       "['KUNAL', 'KOLI', 'PWSKILLS', 'COURSE']"
      ]
     },
     "execution_count": 21,
     "metadata": {},
     "output_type": "execute_result"
    }
   ],
   "source": [
    "l1"
   ]
  },
  {
   "cell_type": "code",
   "execution_count": 22,
   "id": "c85be43d-9f60-4ff3-8c39-df20fd3409f2",
   "metadata": {},
   "outputs": [],
   "source": [
    "l = [1,2,3,5,6,8,7,5,\"kunal\" , \"koli\" , 548,25.36,\"abc\"]"
   ]
  },
  {
   "cell_type": "code",
   "execution_count": 23,
   "id": "3c8de5e8-c402-45ce-839a-7fbf2eb506f9",
   "metadata": {},
   "outputs": [],
   "source": [
    "l1_int= []\n",
    "l2_str= []\n",
    "for i in l :\n",
    "    if type(i) == int or type(i) == float :\n",
    "        l1_int.append(i)\n",
    "    else :\n",
    "        l2_str.append(i)\n",
    "        \n",
    "    "
   ]
  },
  {
   "cell_type": "code",
   "execution_count": 24,
   "id": "d52a085b-97fe-402e-9c4a-14b01e0e5a08",
   "metadata": {},
   "outputs": [
    {
     "data": {
      "text/plain": [
       "[1, 2, 3, 5, 6, 8, 7, 5, 548, 25.36]"
      ]
     },
     "execution_count": 24,
     "metadata": {},
     "output_type": "execute_result"
    }
   ],
   "source": [
    "l1_int"
   ]
  },
  {
   "cell_type": "code",
   "execution_count": 25,
   "id": "e753234a-9411-4662-84b2-af2b9bf44186",
   "metadata": {},
   "outputs": [
    {
     "data": {
      "text/plain": [
       "['kunal', 'koli', 'abc']"
      ]
     },
     "execution_count": 25,
     "metadata": {},
     "output_type": "execute_result"
    }
   ],
   "source": [
    "l2_str"
   ]
  },
  {
   "cell_type": "code",
   "execution_count": null,
   "id": "ef304151-ab60-4cc4-b683-daed9d2688e7",
   "metadata": {},
   "outputs": [],
   "source": []
  }
 ],
 "metadata": {
  "kernelspec": {
   "display_name": "Python 3 (ipykernel)",
   "language": "python",
   "name": "python3"
  },
  "language_info": {
   "codemirror_mode": {
    "name": "ipython",
    "version": 3
   },
   "file_extension": ".py",
   "mimetype": "text/x-python",
   "name": "python",
   "nbconvert_exporter": "python",
   "pygments_lexer": "ipython3",
   "version": "3.10.8"
  }
 },
 "nbformat": 4,
 "nbformat_minor": 5
}
